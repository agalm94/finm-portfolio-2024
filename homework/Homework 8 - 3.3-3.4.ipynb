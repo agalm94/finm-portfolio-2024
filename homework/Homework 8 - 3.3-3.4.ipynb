{
 "cells": [
  {
   "cell_type": "markdown",
   "id": "a5a932da",
   "metadata": {},
   "source": [
    "\n",
    "### 3.3 Predicting FX\n",
    "\n",
    "For each foreign currency, test whether interest-rate differentials can predict growth in the foreign-exchange rate. Do this by estimating the following forecasting regression:\n",
    "\n",
    "\\[ s^i_{t+1} - s^i_t = \\alpha^i + \\beta^i \\left( r_{f,\\$_{t,t+1}} - r_{f,it,t+1} \\right) + \\epsilon^i_{t+1} \\]\n",
    "\n",
    "where \\(r_{f,i}\\) denotes the risk-free rate of currency \\(i\\), and \\(s^i\\) denotes the FX rate for currency \\(i\\). Again, note that both \\(r_{f,\\$_{t,t+1}}\\) and \\(s_t\\) are determined at time \\(t\\).\n",
    "\n",
    "1. Make a table with columns corresponding to a different currency regression. Report the regression estimates \\(\\alpha^i\\) and \\(\\beta^i\\) in the first two rows. Report the \\(R^2\\) stat in the third row.\n",
    "\n",
    "2. Suppose the foreign risk-free rate increases relative to the US rate.\n",
    "\n",
    "    (a) For which foreign currencies would we predict a relative strengthening of the USD in the following period?\n",
    "\n",
    "    (b) For which currencies would we predict relative weakening of the USD in the following period?\n",
    "\n",
    "    (c) This FX predictability is strongest in the case of which foreign currency?\n"
   ]
  },
  {
   "cell_type": "markdown",
   "id": "25606d66",
   "metadata": {},
   "source": [
    "\n",
    "### 3.4 The Dynamic Carry Trade\n",
    "\n",
    "Use this to write \\( E_t \\left[ \\tilde{r}^i_{t+1} \\right] \\) as a function of the interest-rate differential as well as \\(\\alpha\\) and \\(\\beta\\) from this FX regression.\n",
    "\n",
    "\\[ E_t \\left[ s^i_{t+1} - s^i_t \\right] = \\alpha + \\beta \\left( r_{f,\\$_{t,t+1}} - r_{f,it,t+1} \\right) \\]\n",
    "\n",
    "Then use the definition of excess (log) returns on FX:\n",
    "\n",
    "\\[ \\tilde{r}^i_{t+1} = s^i_{t+1} - s^i_t - \\left( r_{f,\\$_{t,t+1}} - r_{f,it,t+1} \\right) \\]\n",
    "\n",
    "Rearranging, this implies the following forecast for excess log returns:\n",
    "\n",
    "\\[ E_t \\left[ \\tilde{r}^i_{t+1} \\right] = \\alpha + (\\beta - 1) \\left( r_{f,\\$_{t,t+1}} - r_{f,it,t+1} \\right) \\]\n",
    "\n",
    "1. Use your regression estimates from Problem 3 along with the formula above to calculate the fraction of months for which the estimated FX risk premium is positive. That is, for each \\(i\\), calculate how often in the time-series we have:\n",
    "\n",
    "    \\[ E_t \\left[ \\tilde{r}^i_{t+1} \\right] > 0 \\]\n",
    "\n",
    "2. Which currencies most consistently have a positive FX risk premium? And for which currencies does the FX risk premium most often go negative?\n",
    "\n",
    "3. Explain how we could use these conditional risk premia to improve the static carry trade returns calculated in Problem 1.\n"
   ]
  }
 ],
 "metadata": {},
 "nbformat": 4,
 "nbformat_minor": 5
}
