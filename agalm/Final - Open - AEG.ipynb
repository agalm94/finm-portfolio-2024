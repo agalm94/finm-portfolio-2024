{
 "cells": [
  {
   "cell_type": "markdown",
   "id": "559895d2",
   "metadata": {},
   "source": [
    "# Final Exam - Open\n",
    "\n",
    "## FINM 36700 - 2024\n",
    "\n",
    "### UChicago Financial Mathematics\n",
    "\n",
    "* Mark Hendricks\n",
    "* hendricks@uchicago.edu"
   ]
  },
  {
   "cell_type": "markdown",
   "id": "9e0a3816-d8c0-4317-8a45-7047edf45f11",
   "metadata": {},
   "source": [
    "***"
   ]
  },
  {
   "cell_type": "markdown",
   "id": "01cde8d3",
   "metadata": {},
   "source": [
    "# Instructions"
   ]
  },
  {
   "cell_type": "markdown",
   "id": "cc273c1a",
   "metadata": {},
   "source": [
    "## Please note the following:\n",
    "\n",
    "Points\n",
    "* The exam is `85` points.\n",
    "* You have `85` minutes to complete the exam.\n",
    "* For every minute late you submit the exam, you will lose one point.\n",
    "\n",
    "\n",
    "Submission\n",
    "* You will upload your solution to the `Final - Open` assignment on Canvas, where you downloaded this. \n",
    "* Be sure to **submit** on Canvas, not just **save** on Canvas.\n",
    "* Your submission should be readable, (the graders can understand your answers.)\n",
    "* Your submission should **include all code used in your analysis in a file format that the code can be executed.** \n",
    "\n",
    "Rules\n",
    "* The exam is open-material, closed-communication.\n",
    "* You do not need to cite material from the course github repo - you are welcome to use the code posted there without citation.\n",
    "\n",
    "Advice\n",
    "* If you find any question to be unclear, state your interpretation and proceed. We will only answer questions of interpretation if there is a typo, error, etc.\n",
    "* The exam will be graded for partial credit."
   ]
  },
  {
   "cell_type": "markdown",
   "id": "624f27b1",
   "metadata": {},
   "source": [
    "## Data\n",
    "\n",
    "**All data files are found in the class github repo, in the `data` folder.**\n",
    "\n",
    "- For Section 1:\n",
    "    * `data/final_exam_data.xlsx`\n",
    "- for Section 2:\n",
    "    * `data/fx_rf_data.xlsx`"
   ]
  },
  {
   "cell_type": "markdown",
   "id": "ebf6e066",
   "metadata": {},
   "source": [
    "## Scoring\n",
    "\n",
    "| Problem | Points |\n",
    "|---------|--------|\n",
    "| 1       | 40     |\n",
    "| 2       | 45     |"
   ]
  },
  {
   "cell_type": "markdown",
   "id": "7fb2fc26",
   "metadata": {},
   "source": [
    "### Each numbered question is worth 5 points unless otherwise specified."
   ]
  },
  {
   "cell_type": "markdown",
   "id": "632ce7d4",
   "metadata": {},
   "source": [
    "***"
   ]
  },
  {
   "cell_type": "code",
   "execution_count": 1,
   "id": "abb7a19a",
   "metadata": {},
   "outputs": [],
   "source": [
    "import os\n",
    "import sys\n",
    "import pandas as pd\n",
    "from scipy.stats import norm, chi2\n",
    "import statsmodels.api as sm\n",
    "import numpy as np\n",
    "from functools import partial\n",
    "import matplotlib.pyplot as plt\n",
    "import seaborn as sns\n",
    "import warnings\n",
    "\n",
    "current_dir = os.getcwd()\n",
    "parent_dir = os.path.abspath(os.path.join(current_dir, os.pardir))\n",
    "grandparent_dir = os.path.abspath(os.path.join(parent_dir, os.pardir))\n",
    "sys.path.insert(0, parent_dir)\n",
    "sys.path.insert(0, grandparent_dir)\n",
    "import cmds.portfolio_management_helper as pmh\n",
    "\n",
    "plt.style.use(\"seaborn-v0_8-whitegrid\")\n",
    "PLOT_WIDTH, PLOT_HEIGHT = 8, 5\n",
    "COLORS = [\"blue\", \"red\", \"orange\"]\n",
    "\n",
    "warnings.filterwarnings('ignore')\n",
    "pd.options.display.float_format = \"{:.4f}\".format\n",
    "p = plt.rcParams\n",
    "\n",
    "%matplotlib inline\n",
    "%load_ext autoreload\n",
    "%autoreload 2"
   ]
  },
  {
   "cell_type": "code",
   "execution_count": 2,
   "id": "8ec0ee0b",
   "metadata": {},
   "outputs": [],
   "source": [
    "DATA_PATH = parent_dir + '/data/'\n",
    "FILE_NAME = DATA_PATH + 'final_exam_data.xlsx'\n",
    "assets = pmh.read_excel_default(FILE_NAME, \n",
    "                                 sheet_name='Asset Returns',\n",
    "                                 index_col='Date', parse_dates=True)\n",
    "factors = pmh.read_excel_default(FILE_NAME, \n",
    "                                 sheet_name='Factor Returns',\n",
    "                                 index_col='Date', parse_dates=True)\n",
    "betas = pmh.read_excel_default(FILE_NAME, \n",
    "                                 sheet_name='Asset Betas',\n",
    "                                 index_col='Ticker', parse_dates=True)"
   ]
  },
  {
   "cell_type": "markdown",
   "id": "9a676293-3a91-4162-823e-4afb44c164e2",
   "metadata": {
    "vscode": {
     "languageId": "plaintext"
    }
   },
   "source": [
    "# 1. Cross-Sectional Factor Pricing\n",
    "\n",
    "Use the data found in the file `final_data.xlsx`. The sheet named `Asset Returns` contains daily excess returns data for various assets; the sheet named `Factor Returns` contains daily excess returns data for some unknown factor; and the sheet named `Asset Betas` contains the betas of each asset with respect to the given factor.\n",
    "\n",
    "Consider the data to have an annualization factor of `252` days per year.\n",
    "\n",
    "### 1.\n",
    "(10pts)\n",
    "\n",
    "Using linear regression, estimate the factor risk premium for __each point in time__, using the following model: $\\phantom{Brian Hood}$ \n",
    "\n",
    "$$\n",
    "\\tilde{r}^{(i)}_t = \\beta^{(i)}\\lambda_t + \\epsilon^{(i)}_t\n",
    "$$\n",
    "\n",
    "Using your estimated series $\\lambda_t$, report...\n",
    "\n",
    "* the last 3 values. \n",
    "\n",
    "* the annualized mean.\n",
    "\n",
    "* the annualized vol."
   ]
  },
  {
   "cell_type": "code",
   "execution_count": 3,
   "id": "1ba0cec2",
   "metadata": {},
   "outputs": [],
   "source": [
    "models, lmbdas = {}, pd.DataFrame(index=assets.index)\n",
    "for i, date in enumerate(assets.index):\n",
    "    model_t = sm.OLS(assets.iloc[i], betas).fit()\n",
    "    models[date] = model_t\n",
    "    lmbda = model_t.params[0]\n",
    "    lmbdas.loc[date, 'Lambda'] = lmbda"
   ]
  },
  {
   "cell_type": "code",
   "execution_count": 4,
   "id": "09aaac4e",
   "metadata": {},
   "outputs": [
    {
     "data": {
      "text/html": [
       "<div>\n",
       "<style scoped>\n",
       "    .dataframe tbody tr th:only-of-type {\n",
       "        vertical-align: middle;\n",
       "    }\n",
       "\n",
       "    .dataframe tbody tr th {\n",
       "        vertical-align: top;\n",
       "    }\n",
       "\n",
       "    .dataframe thead th {\n",
       "        text-align: right;\n",
       "    }\n",
       "</style>\n",
       "<table border=\"1\" class=\"dataframe\">\n",
       "  <thead>\n",
       "    <tr style=\"text-align: right;\">\n",
       "      <th></th>\n",
       "      <th>Lambda</th>\n",
       "    </tr>\n",
       "    <tr>\n",
       "      <th>date</th>\n",
       "      <th></th>\n",
       "    </tr>\n",
       "  </thead>\n",
       "  <tbody>\n",
       "    <tr>\n",
       "      <th>2024-11-06</th>\n",
       "      <td>0.0230</td>\n",
       "    </tr>\n",
       "    <tr>\n",
       "      <th>2024-11-07</th>\n",
       "      <td>0.0011</td>\n",
       "    </tr>\n",
       "    <tr>\n",
       "      <th>2024-11-08</th>\n",
       "      <td>0.0018</td>\n",
       "    </tr>\n",
       "  </tbody>\n",
       "</table>\n",
       "</div>"
      ],
      "text/plain": [
       "            Lambda\n",
       "date              \n",
       "2024-11-06  0.0230\n",
       "2024-11-07  0.0011\n",
       "2024-11-08  0.0018"
      ]
     },
     "execution_count": 4,
     "metadata": {},
     "output_type": "execute_result"
    }
   ],
   "source": [
    "# Last 3 values\n",
    "lmbdas.iloc[-3:]"
   ]
  },
  {
   "cell_type": "code",
   "execution_count": 5,
   "id": "447f7a06",
   "metadata": {},
   "outputs": [
    {
     "name": "stdout",
     "output_type": "stream",
     "text": [
      "Assuming excess returns were provided to calculate Sharpe. If returns were provided (steady of excess returns), the column \"Sharpe\" is actually \"Mean/Volatility\"\n"
     ]
    },
    {
     "data": {
      "text/html": [
       "<style type=\"text/css\">\n",
       "</style>\n",
       "<table id=\"T_bc8ed\">\n",
       "  <thead>\n",
       "    <tr>\n",
       "      <th class=\"blank level0\" >&nbsp;</th>\n",
       "      <th id=\"T_bc8ed_level0_col0\" class=\"col_heading level0 col0\" >Annualized Mean</th>\n",
       "      <th id=\"T_bc8ed_level0_col1\" class=\"col_heading level0 col1\" >Annualized Vol</th>\n",
       "    </tr>\n",
       "  </thead>\n",
       "  <tbody>\n",
       "    <tr>\n",
       "      <th id=\"T_bc8ed_level0_row0\" class=\"row_heading level0 row0\" >Lambda</th>\n",
       "      <td id=\"T_bc8ed_row0_col0\" class=\"data row0 col0\" >17.55%</td>\n",
       "      <td id=\"T_bc8ed_row0_col1\" class=\"data row0 col1\" >11.69%</td>\n",
       "    </tr>\n",
       "  </tbody>\n",
       "</table>\n"
      ],
      "text/plain": [
       "<pandas.io.formats.style.Styler at 0x156be7350>"
      ]
     },
     "execution_count": 5,
     "metadata": {},
     "output_type": "execute_result"
    }
   ],
   "source": [
    "# Annualized Mean and Vol\n",
    "pmh.calc_summary_statistics(lmbdas, annual_factor=252, keep_columns=['Annualized'], drop_columns=['Sharpe', 'VaR']).style.format(\"{:.2%}\")"
   ]
  },
  {
   "cell_type": "markdown",
   "id": "be8b8543-cf9f-4aa6-b703-7af7a9dc6872",
   "metadata": {
    "vscode": {
     "languageId": "plaintext"
    }
   },
   "source": [
    "### 2.\n",
    "\n",
    "(10pts)\n",
    "\n",
    "Compare $\\lambda_t$ to the realized factor returns, $\\tilde{f}_t$.\n",
    "\n",
    "* Plot the cumulative (excess) returns of $\\lambda_t$ and $\\tilde{f}_t$.\n",
    "* Report the correlation between these two series.\n",
    "* Report the serial correlation of each series.\n",
    "\n",
    "Should we expect the serial correlation of $\\tilde{f}$ to be near zero? What about $\\lambda_t$?"
   ]
  },
  {
   "cell_type": "code",
   "execution_count": 6,
   "id": "d7b03329",
   "metadata": {},
   "outputs": [
    {
     "data": {
      "image/png": "[encoded data removed]",
      "text/plain": [
       "<Figure size 700x500 with 1 Axes>"
      ]
     },
     "metadata": {},
     "output_type": "display_data"
    }
   ],
   "source": [
    "compare = pd.concat([lmbdas, factors], axis=1)\n",
    "pmh.calc_cummulative_returns(compare)"
   ]
  },
  {
   "cell_type": "code",
   "execution_count": 7,
   "id": "a4fa2155",
   "metadata": {},
   "outputs": [
    {
     "name": "stdout",
     "output_type": "stream",
     "text": [
      "The highest correlation (98.51%) is between factor and Lambda\n",
      "The lowest correlation (98.51%) is between Lambda and factor\n"
     ]
    },
    {
     "data": {
      "text/plain": [
       "<Axes: >"
      ]
     },
     "execution_count": 7,
     "metadata": {},
     "output_type": "execute_result"
    },
    {
     "data": {
      "image/png": "[encoded data removed]",
      "text/plain": [
       "<Figure size 1050x700 with 2 Axes>"
      ]
     },
     "metadata": {},
     "output_type": "display_data"
    }
   ],
   "source": [
    "pmh.calc_correlations(compare)"
   ]
  },
  {
   "cell_type": "code",
   "execution_count": 8,
   "id": "05d6e5b0",
   "metadata": {},
   "outputs": [
    {
     "name": "stdout",
     "output_type": "stream",
     "text": [
      "Serial correlation of Lambda: 0.16%\n",
      "Serial correlation of factor: 1.84%\n"
     ]
    }
   ],
   "source": [
    "for series in compare.columns:\n",
    "    print(f'Serial correlation of {series}: {compare[series].autocorr():.2%}')"
   ]
  },
  {
   "cell_type": "markdown",
   "id": "dea9adfd-c561-4210-9846-9ae679fdb277",
   "metadata": {
    "vscode": {
     "languageId": "plaintext"
    }
   },
   "source": [
    "### 3.\n",
    "\n",
    "We estimated our factor premium in a regression that excluded an intercept term. Why might we have done this? In what circumstance would we prefer to include an intercept term?"
   ]
  },
  {
   "cell_type": "markdown",
   "id": "ea094cec",
   "metadata": {},
   "source": [
    "<span style=\"color:red;\">\n",
    "\n",
    "We might have decided to estimate our factor premium in a regression that excluded an intercept term because we believe the level of the returns (i.e: the $\\alpha$) is well estimated. Consequently, we want our regression to capture that level in each of our factor premium estimates.\n",
    "\n",
    "We would prefer to include an intercept term when we don't believe that $\\alpha$ is well estimated. This is often a consideration when we are constructing replicating portfolios or hedging positions where we may be more concerned with capturing variance.\n",
    "\n",
    "</span>"
   ]
  },
  {
   "cell_type": "markdown",
   "id": "8b21d34d-296c-4c05-ae54-6aefb6863531",
   "metadata": {
    "vscode": {
     "languageId": "plaintext"
    }
   },
   "source": [
    "### 4.\n",
    "\n",
    "(10pts)\n",
    "\n",
    "Now, use the actual factor returns, $\\tilde{f}_t$ to analyze the fit of this pricing model using a __single__ cross-sectional regression to estimate  $\\phantom{Brian Hood}$\n",
    "\n",
    "$$\n",
    "E[r^{(i)}] = \\eta + \\beta^{(i)} E[\\tilde{f}] + \\epsilon^{(i)}\n",
    "$$\n",
    "\n",
    "How well does this factor work for pricing? Provide supporting evidence for your answer."
   ]
  },
  {
   "cell_type": "code",
   "execution_count": null,
   "id": "09eeda31",
   "metadata": {},
   "outputs": [
    {
     "data": {
      "text/html": [
       "<table class=\"simpletable\">\n",
       "<caption>OLS Regression Results</caption>\n",
       "<tr>\n",
       "  <th>Dep. Variable:</th>    <td>Expected Returns</td> <th>  R-squared:         </th> <td>   0.000</td>\n",
       "</tr>\n",
       "<tr>\n",
       "  <th>Model:</th>                   <td>OLS</td>       <th>  Adj. R-squared:    </th> <td>   0.000</td>\n",
       "</tr>\n",
       "<tr>\n",
       "  <th>Method:</th>             <td>Least Squares</td>  <th>  F-statistic:       </th> <td>     nan</td>\n",
       "</tr>\n",
       "<tr>\n",
       "  <th>Date:</th>             <td>Mon, 09 Dec 2024</td> <th>  Prob (F-statistic):</th>  <td>   nan</td> \n",
       "</tr>\n",
       "<tr>\n",
       "  <th>Time:</th>                 <td>22:47:43</td>     <th>  Log-Likelihood:    </th> <td>  2657.0</td>\n",
       "</tr>\n",
       "<tr>\n",
       "  <th>No. Observations:</th>      <td>   498</td>      <th>  AIC:               </th> <td>  -5312.</td>\n",
       "</tr>\n",
       "<tr>\n",
       "  <th>Df Residuals:</th>          <td>   497</td>      <th>  BIC:               </th> <td>  -5308.</td>\n",
       "</tr>\n",
       "<tr>\n",
       "  <th>Df Model:</th>              <td>     0</td>      <th>                     </th>     <td> </td>   \n",
       "</tr>\n",
       "<tr>\n",
       "  <th>Covariance Type:</th>      <td>nonrobust</td>    <th>                     </th>     <td> </td>   \n",
       "</tr>\n",
       "</table>\n",
       "<table class=\"simpletable\">\n",
       "<tr>\n",
       "        <td></td>           <th>coef</th>     <th>std err</th>      <th>t</th>      <th>P>|t|</th>  <th>[0.025</th>    <th>0.975]</th>  \n",
       "</tr>\n",
       "<tr>\n",
       "  <th>Factor Return</th> <td>    1.0000</td> <td>    0.062</td> <td>   16.026</td> <td> 0.000</td> <td>    0.877</td> <td>    1.123</td>\n",
       "</tr>\n",
       "</table>\n",
       "<table class=\"simpletable\">\n",
       "<tr>\n",
       "  <th>Omnibus:</th>       <td>44.117</td> <th>  Durbin-Watson:     </th> <td>   1.943</td>\n",
       "</tr>\n",
       "<tr>\n",
       "  <th>Prob(Omnibus):</th> <td> 0.000</td> <th>  Jarque-Bera (JB):  </th> <td> 214.274</td>\n",
       "</tr>\n",
       "<tr>\n",
       "  <th>Skew:</th>          <td>-0.124</td> <th>  Prob(JB):          </th> <td>2.96e-47</td>\n",
       "</tr>\n",
       "<tr>\n",
       "  <th>Kurtosis:</th>      <td> 6.204</td> <th>  Cond. No.          </th> <td>    1.00</td>\n",
       "</tr>\n",
       "</table><br/><br/>Notes:<br/>[1] Standard Errors assume that the covariance matrix of the errors is correctly specified."
      ],
      "text/latex": [
       "\\begin{center}\n",
       "\\begin{tabular}{lclc}\n",
       "\\toprule\n",
       "\\textbf{Dep. Variable:}    & Expected Returns & \\textbf{  R-squared:         } &     0.000   \\\\\n",
       "\\textbf{Model:}            &       OLS        & \\textbf{  Adj. R-squared:    } &     0.000   \\\\\n",
       "\\textbf{Method:}           &  Least Squares   & \\textbf{  F-statistic:       } &       nan   \\\\\n",
       "\\textbf{Date:}             & Mon, 09 Dec 2024 & \\textbf{  Prob (F-statistic):} &      nan    \\\\\n",
       "\\textbf{Time:}             &     22:47:43     & \\textbf{  Log-Likelihood:    } &    2657.0   \\\\\n",
       "\\textbf{No. Observations:} &         498      & \\textbf{  AIC:               } &    -5312.   \\\\\n",
       "\\textbf{Df Residuals:}     &         497      & \\textbf{  BIC:               } &    -5308.   \\\\\n",
       "\\textbf{Df Model:}         &           0      & \\textbf{                     } &             \\\\\n",
       "\\textbf{Covariance Type:}  &    nonrobust     & \\textbf{                     } &             \\\\\n",
       "\\bottomrule\n",
       "\\end{tabular}\n",
       "\\begin{tabular}{lcccccc}\n",
       "                       & \\textbf{coef} & \\textbf{std err} & \\textbf{t} & \\textbf{P$> |$t$|$} & \\textbf{[0.025} & \\textbf{0.975]}  \\\\\n",
       "\\midrule\n",
       "\\textbf{Factor Return} &       1.0000  &        0.062     &    16.026  &         0.000        &        0.877    &        1.123     \\\\\n",
       "\\bottomrule\n",
       "\\end{tabular}\n",
       "\\begin{tabular}{lclc}\n",
       "\\textbf{Omnibus:}       & 44.117 & \\textbf{  Durbin-Watson:     } &    1.943  \\\\\n",
       "\\textbf{Prob(Omnibus):} &  0.000 & \\textbf{  Jarque-Bera (JB):  } &  214.274  \\\\\n",
       "\\textbf{Skew:}          & -0.124 & \\textbf{  Prob(JB):          } & 2.96e-47  \\\\\n",
       "\\textbf{Kurtosis:}      &  6.204 & \\textbf{  Cond. No.          } &     1.00  \\\\\n",
       "\\bottomrule\n",
       "\\end{tabular}\n",
       "%\\caption{OLS Regression Results}\n",
       "\\end{center}\n",
       "\n",
       "Notes: \\newline\n",
       " [1] Standard Errors assume that the covariance matrix of the errors is correctly specified."
      ],
      "text/plain": [
       "<class 'statsmodels.iolib.summary.Summary'>\n",
       "\"\"\"\n",
       "                            OLS Regression Results                            \n",
       "==============================================================================\n",
       "Dep. Variable:       Expected Returns   R-squared:                       0.000\n",
       "Model:                            OLS   Adj. R-squared:                  0.000\n",
       "Method:                 Least Squares   F-statistic:                       nan\n",
       "Date:                Mon, 09 Dec 2024   Prob (F-statistic):                nan\n",
       "Time:                        22:47:43   Log-Likelihood:                 2657.0\n",
       "No. Observations:                 498   AIC:                            -5312.\n",
       "Df Residuals:                     497   BIC:                            -5308.\n",
       "Df Model:                           0                                         \n",
       "Covariance Type:            nonrobust                                         \n",
       "=================================================================================\n",
       "                    coef    std err          t      P>|t|      [0.025      0.975]\n",
       "---------------------------------------------------------------------------------\n",
       "Factor Return     1.0000      0.062     16.026      0.000       0.877       1.123\n",
       "==============================================================================\n",
       "Omnibus:                       44.117   Durbin-Watson:                   1.943\n",
       "Prob(Omnibus):                  0.000   Jarque-Bera (JB):              214.274\n",
       "Skew:                          -0.124   Prob(JB):                     2.96e-47\n",
       "Kurtosis:                       6.204   Cond. No.                         1.00\n",
       "==============================================================================\n",
       "\n",
       "Notes:\n",
       "[1] Standard Errors assume that the covariance matrix of the errors is correctly specified.\n",
       "\"\"\""
      ]
     },
     "execution_count": 27,
     "metadata": {},
     "output_type": "execute_result"
    }
   ],
   "source": [
    "# Corrected, but still very unsure about it\n",
    "exp_factor_ret = factors.mean()[0] * np.ones(len(assets.columns))\n",
    "exp_factor_ret = pd.DataFrame(exp_factor_ret, index=assets.columns, columns=['Factor Return'])\n",
    "\n",
    "exp_rets = assets.mean().to_frame('Expected Returns')\n",
    "factor = sm.add_constant(exp_factor_ret)\n",
    "model = sm.OLS(exp_rets, factor).fit()\n",
    "model.summary()"
   ]
  },
  {
   "cell_type": "code",
   "execution_count": null,
   "id": "d812d7c2",
   "metadata": {},
   "outputs": [
    {
     "name": "stdout",
     "output_type": "stream",
     "text": [
      "CS MAE: 0.0848%\n"
     ]
    }
   ],
   "source": [
    "# Checking out of curiosity\n",
    "print(f'CS MAE: {model.resid.abs().mean():.4%}')"
   ]
  },
  {
   "cell_type": "markdown",
   "id": "9eda91d7",
   "metadata": {},
   "source": [
    "<span style=\"color:red;\">\n",
    "\n",
    "This factor model does fairly poor job of pricing. This is evidenced by the very small $R^2$ in this cross-section regression above, and the $\\lambda \\approx 0$. (Note: in the table above, $\\lambda$ represents the $\\beta$ described in the )\n",
    "\n",
    "</span>"
   ]
  },
  {
   "cell_type": "markdown",
   "id": "7191a92c-6f82-46a5-b1df-23a2c4ff8b59",
   "metadata": {},
   "source": [
    "### 5.\n",
    "\n",
    "The factor we've used, $\\tilde{f}$ is actually the **equally**-weighted portfolio of equities. Suppose the CAPM holds exactly, with the **value**-weighted market equity portfolio. In that case, what would we expect, theoretically, from the previous section?"
   ]
  },
  {
   "cell_type": "markdown",
   "id": "afc99afd",
   "metadata": {},
   "source": [
    "<span style=\"color:red;\">\n",
    "\n",
    "We would not expect the results to mirror what we expect for CAPM. This is because the market factor that we are using would inherently not reflect the choices of mean-variance investors in the market, which is a critical underlying assumption in CAPM. Consequently, this factor model would not fit the expected returns of the assets perfectly, as the market factor in CAPM would.\n",
    "\n",
    "</span>"
   ]
  },
  {
   "cell_type": "markdown",
   "id": "0a8eda25",
   "metadata": {},
   "source": [
    "***"
   ]
  },
  {
   "cell_type": "markdown",
   "id": "51ff849e",
   "metadata": {
    "vscode": {
     "languageId": "plaintext"
    }
   },
   "source": [
    "# 2. Currency Trades\n",
    "\n",
    "For this question, use the data set from `data/fx_rf_data.xlsx`."
   ]
  },
  {
   "cell_type": "markdown",
   "id": "0c366b80-4382-48eb-b626-7b498675ade9",
   "metadata": {},
   "source": [
    "Calculate the **arithmetic** (not log) excess return to holding each foreign currency.\n",
    "\n",
    "Data Note:\n",
    "* Consider the risk-free rate data as being quoted as an annualized value, where this annualization is a scaling of `252`.\n",
    "\n",
    "Throughout this problem, we only consider returns generated between `Jan 2018` and `Aug 2024`."
   ]
  },
  {
   "cell_type": "code",
   "execution_count": 31,
   "id": "1a4244ee",
   "metadata": {},
   "outputs": [],
   "source": [
    "FILE_NAME = DATA_PATH + 'fx_rf_data.xlsx'\n",
    "START_DATE = '2018-01'\n",
    "END_DATE = '2024-08'\n",
    "rates = pmh.read_excel_default(FILE_NAME, \n",
    "                                 sheet_name='risk-free rates',\n",
    "                                 index_col='date', parse_dates=True)\n",
    "rates /= 252\n",
    "fx = pmh.read_excel_default(FILE_NAME, \n",
    "                                 sheet_name='exchange rates',\n",
    "                                 index_col='date', parse_dates=True)"
   ]
  },
  {
   "cell_type": "markdown",
   "id": "9ae32f03-33ab-4b4d-ba58-9818a5cd6efc",
   "metadata": {},
   "source": [
    "### 1.\n",
    "\n",
    "Report the first and final three values of each of these excess return series."
   ]
  },
  {
   "cell_type": "code",
   "execution_count": 38,
   "id": "3931460a",
   "metadata": {},
   "outputs": [],
   "source": [
    "# Corrected - Percent Change for Spot rates and Rate Ratio for Interest Rates\n",
    "forex = fx.loc[START_DATE:END_DATE].pct_change().shift(-1)\n",
    "rate_diffs = (1 + rates.loc[START_DATE:END_DATE, ['USD']].values) / (1 + rates.loc[START_DATE:END_DATE].drop('USD', axis=1)) - 1\n",
    "xs_rets = (forex - rate_diffs).dropna()"
   ]
  },
  {
   "cell_type": "code",
   "execution_count": 39,
   "id": "a89aea11",
   "metadata": {},
   "outputs": [
    {
     "data": {
      "text/html": [
       "<div>\n",
       "<style scoped>\n",
       "    .dataframe tbody tr th:only-of-type {\n",
       "        vertical-align: middle;\n",
       "    }\n",
       "\n",
       "    .dataframe tbody tr th {\n",
       "        vertical-align: top;\n",
       "    }\n",
       "\n",
       "    .dataframe thead th {\n",
       "        text-align: right;\n",
       "    }\n",
       "</style>\n",
       "<table border=\"1\" class=\"dataframe\">\n",
       "  <thead>\n",
       "    <tr style=\"text-align: right;\">\n",
       "      <th></th>\n",
       "      <th>JPY</th>\n",
       "      <th>EUR</th>\n",
       "      <th>GBP</th>\n",
       "      <th>MXN</th>\n",
       "      <th>CHF</th>\n",
       "    </tr>\n",
       "    <tr>\n",
       "      <th>date</th>\n",
       "      <th></th>\n",
       "      <th></th>\n",
       "      <th></th>\n",
       "      <th></th>\n",
       "      <th></th>\n",
       "    </tr>\n",
       "  </thead>\n",
       "  <tbody>\n",
       "    <tr>\n",
       "      <th>2018-01-01</th>\n",
       "      <td>0.0033</td>\n",
       "      <td>0.0038</td>\n",
       "      <td>0.0064</td>\n",
       "      <td>0.0061</td>\n",
       "      <td>0.0032</td>\n",
       "    </tr>\n",
       "    <tr>\n",
       "      <th>2018-01-02</th>\n",
       "      <td>-0.0021</td>\n",
       "      <td>-0.0037</td>\n",
       "      <td>-0.0055</td>\n",
       "      <td>0.0098</td>\n",
       "      <td>-0.0054</td>\n",
       "    </tr>\n",
       "    <tr>\n",
       "      <th>2018-01-03</th>\n",
       "      <td>-0.0022</td>\n",
       "      <td>0.0043</td>\n",
       "      <td>0.0026</td>\n",
       "      <td>0.0033</td>\n",
       "      <td>0.0023</td>\n",
       "    </tr>\n",
       "  </tbody>\n",
       "</table>\n",
       "</div>"
      ],
      "text/plain": [
       "               JPY     EUR     GBP    MXN     CHF\n",
       "date                                             \n",
       "2018-01-01  0.0033  0.0038  0.0064 0.0061  0.0032\n",
       "2018-01-02 -0.0021 -0.0037 -0.0055 0.0098 -0.0054\n",
       "2018-01-03 -0.0022  0.0043  0.0026 0.0033  0.0023"
      ]
     },
     "metadata": {},
     "output_type": "display_data"
    },
    {
     "data": {
      "text/html": [
       "<div>\n",
       "<style scoped>\n",
       "    .dataframe tbody tr th:only-of-type {\n",
       "        vertical-align: middle;\n",
       "    }\n",
       "\n",
       "    .dataframe tbody tr th {\n",
       "        vertical-align: top;\n",
       "    }\n",
       "\n",
       "    .dataframe thead th {\n",
       "        text-align: right;\n",
       "    }\n",
       "</style>\n",
       "<table border=\"1\" class=\"dataframe\">\n",
       "  <thead>\n",
       "    <tr style=\"text-align: right;\">\n",
       "      <th></th>\n",
       "      <th>JPY</th>\n",
       "      <th>EUR</th>\n",
       "      <th>GBP</th>\n",
       "      <th>MXN</th>\n",
       "      <th>CHF</th>\n",
       "    </tr>\n",
       "    <tr>\n",
       "      <th>date</th>\n",
       "      <th></th>\n",
       "      <th></th>\n",
       "      <th></th>\n",
       "      <th></th>\n",
       "      <th></th>\n",
       "    </tr>\n",
       "  </thead>\n",
       "  <tbody>\n",
       "    <tr>\n",
       "      <th>2024-08-27</th>\n",
       "      <td>-0.0045</td>\n",
       "      <td>-0.0058</td>\n",
       "      <td>-0.0053</td>\n",
       "      <td>0.0061</td>\n",
       "      <td>-0.0008</td>\n",
       "    </tr>\n",
       "    <tr>\n",
       "      <th>2024-08-28</th>\n",
       "      <td>-0.0030</td>\n",
       "      <td>-0.0039</td>\n",
       "      <td>-0.0018</td>\n",
       "      <td>-0.0102</td>\n",
       "      <td>-0.0062</td>\n",
       "    </tr>\n",
       "    <tr>\n",
       "      <th>2024-08-29</th>\n",
       "      <td>-0.0083</td>\n",
       "      <td>-0.0027</td>\n",
       "      <td>-0.0031</td>\n",
       "      <td>0.0064</td>\n",
       "      <td>-0.0028</td>\n",
       "    </tr>\n",
       "  </tbody>\n",
       "</table>\n",
       "</div>"
      ],
      "text/plain": [
       "               JPY     EUR     GBP     MXN     CHF\n",
       "date                                              \n",
       "2024-08-27 -0.0045 -0.0058 -0.0053  0.0061 -0.0008\n",
       "2024-08-28 -0.0030 -0.0039 -0.0018 -0.0102 -0.0062\n",
       "2024-08-29 -0.0083 -0.0027 -0.0031  0.0064 -0.0028"
      ]
     },
     "metadata": {},
     "output_type": "display_data"
    }
   ],
   "source": [
    "display(xs_rets.head(3))\n",
    "display(xs_rets.tail(3))"
   ]
  },
  {
   "cell_type": "markdown",
   "id": "e1d841fa-782c-4613-9a87-925233741f5a",
   "metadata": {},
   "source": [
    "### 2.\n",
    "\n",
    "Report the following performance metrics. Annualize the mean and volatility using an assumption of `252` days per year.\n",
    "\n",
    "* mean\n",
    "* volatility\n",
    "* skewness\n",
    "* (excess) kurtosis\n",
    "* max drawdown\n",
    "\n",
    "Also report the correlation matrix."
   ]
  },
  {
   "cell_type": "code",
   "execution_count": 16,
   "id": "e03198a5",
   "metadata": {},
   "outputs": [
    {
     "name": "stdout",
     "output_type": "stream",
     "text": [
      "Assuming excess returns were provided to calculate Sharpe. If returns were provided (steady of excess returns), the column \"Sharpe\" is actually \"Mean/Volatility\"\n"
     ]
    },
    {
     "data": {
      "text/html": [
       "<style type=\"text/css\">\n",
       "</style>\n",
       "<table id=\"T_61967\">\n",
       "  <thead>\n",
       "    <tr>\n",
       "      <th class=\"blank level0\" >&nbsp;</th>\n",
       "      <th id=\"T_61967_level0_col0\" class=\"col_heading level0 col0\" >Annualized Mean</th>\n",
       "      <th id=\"T_61967_level0_col1\" class=\"col_heading level0 col1\" >Annualized Vol</th>\n",
       "      <th id=\"T_61967_level0_col2\" class=\"col_heading level0 col2\" >Skewness</th>\n",
       "      <th id=\"T_61967_level0_col3\" class=\"col_heading level0 col3\" >Excess Kurtosis</th>\n",
       "      <th id=\"T_61967_level0_col4\" class=\"col_heading level0 col4\" >Max Drawdown</th>\n",
       "    </tr>\n",
       "  </thead>\n",
       "  <tbody>\n",
       "    <tr>\n",
       "      <th id=\"T_61967_level0_row0\" class=\"row_heading level0 row0\" >JPY</th>\n",
       "      <td id=\"T_61967_row0_col0\" class=\"data row0 col0\" >-5.68%</td>\n",
       "      <td id=\"T_61967_row0_col1\" class=\"data row0 col1\" >8.47%</td>\n",
       "      <td id=\"T_61967_row0_col2\" class=\"data row0 col2\" >52.13%</td>\n",
       "      <td id=\"T_61967_row0_col3\" class=\"data row0 col3\" >652.62%</td>\n",
       "      <td id=\"T_61967_row0_col4\" class=\"data row0 col4\" >-43.97%</td>\n",
       "    </tr>\n",
       "    <tr>\n",
       "      <th id=\"T_61967_level0_row1\" class=\"row_heading level0 row1\" >EUR</th>\n",
       "      <td id=\"T_61967_row1_col0\" class=\"data row1 col0\" >-2.61%</td>\n",
       "      <td id=\"T_61967_row1_col1\" class=\"data row1 col1\" >7.06%</td>\n",
       "      <td id=\"T_61967_row1_col2\" class=\"data row1 col2\" >3.38%</td>\n",
       "      <td id=\"T_61967_row1_col3\" class=\"data row1 col3\" >148.52%</td>\n",
       "      <td id=\"T_61967_row1_col4\" class=\"data row1 col4\" >-28.95%</td>\n",
       "    </tr>\n",
       "    <tr>\n",
       "      <th id=\"T_61967_level0_row2\" class=\"row_heading level0 row2\" >GBP</th>\n",
       "      <td id=\"T_61967_row2_col0\" class=\"data row2 col0\" >-0.57%</td>\n",
       "      <td id=\"T_61967_row2_col1\" class=\"data row2 col1\" >8.91%</td>\n",
       "      <td id=\"T_61967_row2_col2\" class=\"data row2 col2\" >-10.02%</td>\n",
       "      <td id=\"T_61967_row2_col3\" class=\"data row2 col3\" >386.53%</td>\n",
       "      <td id=\"T_61967_row2_col4\" class=\"data row2 col4\" >-27.55%</td>\n",
       "    </tr>\n",
       "    <tr>\n",
       "      <th id=\"T_61967_level0_row3\" class=\"row_heading level0 row3\" >MXN</th>\n",
       "      <td id=\"T_61967_row3_col0\" class=\"data row3 col0\" >6.24%</td>\n",
       "      <td id=\"T_61967_row3_col1\" class=\"data row3 col1\" >12.50%</td>\n",
       "      <td id=\"T_61967_row3_col2\" class=\"data row3 col2\" >-48.75%</td>\n",
       "      <td id=\"T_61967_row3_col3\" class=\"data row3 col3\" >299.29%</td>\n",
       "      <td id=\"T_61967_row3_col4\" class=\"data row3 col4\" >-26.44%</td>\n",
       "    </tr>\n",
       "    <tr>\n",
       "      <th id=\"T_61967_level0_row4\" class=\"row_heading level0 row4\" >CHF</th>\n",
       "      <td id=\"T_61967_row4_col0\" class=\"data row4 col0\" >-0.14%</td>\n",
       "      <td id=\"T_61967_row4_col1\" class=\"data row4 col1\" >7.16%</td>\n",
       "      <td id=\"T_61967_row4_col2\" class=\"data row4 col2\" >33.46%</td>\n",
       "      <td id=\"T_61967_row4_col3\" class=\"data row4 col3\" >236.20%</td>\n",
       "      <td id=\"T_61967_row4_col4\" class=\"data row4 col4\" >-16.84%</td>\n",
       "    </tr>\n",
       "  </tbody>\n",
       "</table>\n"
      ],
      "text/plain": [
       "<pandas.io.formats.style.Styler at 0x157775130>"
      ]
     },
     "execution_count": 16,
     "metadata": {},
     "output_type": "execute_result"
    }
   ],
   "source": [
    "pmh.calc_summary_statistics(xs_rets, annual_factor=252, keep_columns=['Annualized', 'Skew', 'Kurtosis', 'Drawdown'], drop_columns=['Sharpe', 'VaR']).style.format(\"{:.2%}\")"
   ]
  },
  {
   "cell_type": "markdown",
   "id": "b6f08180-6ac3-4d42-bfa0-bb35cc71776e",
   "metadata": {},
   "source": [
    "### 3.\n",
    "\n",
    "As of `Dec 2017`, which of these currency trades has the most **carry**? \n",
    "\n",
    "Does this indicate high or low reeturns, assuming UIP?"
   ]
  },
  {
   "cell_type": "code",
   "execution_count": 50,
   "id": "081ff197",
   "metadata": {},
   "outputs": [
    {
     "data": {
      "text/plain": [
       "JPY   0.3836\n",
       "EUR   1.2896\n",
       "GBP   1.3037\n",
       "MXN   0.7041\n",
       "CHF   1.0130\n",
       "Name: 2017-12-28 00:00:00, dtype: float64"
      ]
     },
     "execution_count": 50,
     "metadata": {},
     "output_type": "execute_result"
    }
   ],
   "source": [
    "# Corrected - Percent Change for Spot rates and Rate Ratio for Interest Rates\n",
    "# Annualized Carry in Dec 2017\n",
    "forex_2017 = fx.loc['2017-12':'2017-12'].pct_change().shift(-1)\n",
    "rate_diffs_2017 = (1 + rates.loc['2017-12':'2017-12', ['USD']].values) / (1 + rates.loc['2017-12':'2017-12'].drop('USD', axis=1)) - 1\n",
    "xs_rets_2017 = (forex_2017 - rate_diffs_2017).dropna()\n",
    "(xs_rets_2017 * 252).iloc[-1]"
   ]
  },
  {
   "cell_type": "markdown",
   "id": "df0dc4cc",
   "metadata": {},
   "source": [
    "<span style=\"color:red;\">\n",
    "\n",
    "The currency trade that has the most carry is the MXN carry trade. This indicates high returns, assuming UIP, because UIP assumes there should no returns realized from carry trades. That is, UIP assumes\n",
    "$$s_{t+1} - s_t = r_{t, t+1}^{f, \\$} - r_{t, t+1}^{f, i}$$\n",
    "\n",
    "</span>"
   ]
  },
  {
   "cell_type": "markdown",
   "id": "899a222c-3a39-4fc8-826b-f732ebd0a9d6",
   "metadata": {},
   "source": [
    "### 4."
   ]
  },
  {
   "cell_type": "markdown",
   "id": "5985d281-f88f-487d-9f74-383b524ac00b",
   "metadata": {},
   "source": [
    "Calculate an **average currency factor** which is the equal-weighted average of the currency return series already calculated. Call this factor, $Z$.\n",
    "\n",
    "Estimate the Linear Factor Decomposition of each of the currency trades on this factor, $\\tilde{r}^z_t$. Report,\n",
    "* annualized alphas\n",
    "* betas\n",
    "* r-squared values"
   ]
  },
  {
   "cell_type": "code",
   "execution_count": 51,
   "id": "b8b22d54",
   "metadata": {},
   "outputs": [
    {
     "name": "stdout",
     "output_type": "stream",
     "text": [
      "\"calc_regression\" assumes excess returns to calculate Information and Treynor Ratios\n"
     ]
    },
    {
     "data": {
      "text/html": [
       "<div>\n",
       "<style scoped>\n",
       "    .dataframe tbody tr th:only-of-type {\n",
       "        vertical-align: middle;\n",
       "    }\n",
       "\n",
       "    .dataframe tbody tr th {\n",
       "        vertical-align: top;\n",
       "    }\n",
       "\n",
       "    .dataframe thead th {\n",
       "        text-align: right;\n",
       "    }\n",
       "</style>\n",
       "<table border=\"1\" class=\"dataframe\">\n",
       "  <thead>\n",
       "    <tr style=\"text-align: right;\">\n",
       "      <th></th>\n",
       "      <th>JPY</th>\n",
       "      <th>EUR</th>\n",
       "      <th>GBP</th>\n",
       "      <th>MXN</th>\n",
       "      <th>CHF</th>\n",
       "    </tr>\n",
       "  </thead>\n",
       "  <tbody>\n",
       "    <tr>\n",
       "      <th>Annualized Alpha</th>\n",
       "      <td>-0.0522</td>\n",
       "      <td>-0.0209</td>\n",
       "      <td>0.0005</td>\n",
       "      <td>0.0693</td>\n",
       "      <td>0.0034</td>\n",
       "    </tr>\n",
       "    <tr>\n",
       "      <th>R-Squared</th>\n",
       "      <td>0.3891</td>\n",
       "      <td>0.6958</td>\n",
       "      <td>0.6397</td>\n",
       "      <td>0.4009</td>\n",
       "      <td>0.5941</td>\n",
       "    </tr>\n",
       "    <tr>\n",
       "      <th>Avg Currency Factor Beta</th>\n",
       "      <td>0.8328</td>\n",
       "      <td>0.9279</td>\n",
       "      <td>1.1226</td>\n",
       "      <td>1.2474</td>\n",
       "      <td>0.8692</td>\n",
       "    </tr>\n",
       "  </tbody>\n",
       "</table>\n",
       "</div>"
      ],
      "text/plain": [
       "                             JPY     EUR    GBP    MXN    CHF\n",
       "Annualized Alpha         -0.0522 -0.0209 0.0005 0.0693 0.0034\n",
       "R-Squared                 0.3891  0.6958 0.6397 0.4009 0.5941\n",
       "Avg Currency Factor Beta  0.8328  0.9279 1.1226 1.2474 0.8692"
      ]
     },
     "execution_count": 51,
     "metadata": {},
     "output_type": "execute_result"
    }
   ],
   "source": [
    "z = xs_rets.mean(axis=1).to_frame('Avg Currency Factor')\n",
    "pmh.calc_iterative_regression(xs_rets, z, annual_factor=252, keep_columns=['Annualized', 'Beta', 'R-Squared'], \n",
    "                              drop_columns=['Ratio', 'Tracking', 'Fitted']).T"
   ]
  },
  {
   "cell_type": "markdown",
   "id": "05d0692c-7325-496f-8008-ae6578402156",
   "metadata": {},
   "source": [
    "### 5."
   ]
  },
  {
   "cell_type": "markdown",
   "id": "d7d716c3-eb48-4c87-8ab6-8e4ea8759a87",
   "metadata": {},
   "source": [
    "Do your estimates seem in line with a factor pricing model for these trades where $\\tilde{r}^z$ is the single factor? \n",
    "\n",
    "Explain your conclusion. Don't worry about small sample sizes."
   ]
  },
  {
   "cell_type": "markdown",
   "id": "e6a4fc0c",
   "metadata": {},
   "source": [
    "<span style=\"color:red;\">\n",
    "\n",
    "No, my estimates seem quite a bit stronger than a factor pricing model for these trades. In factor pricing models, we generally don't expect very high R-Squared values in the time series regressions. Instead, we expect the high R-Squared values to show up in the cross section regression. Additionally, the $\\alpha$'s in the regressions for JPY and MXN are meaningfully different from 0, which suggests that these aren't particularly strong factor pricing models. \n",
    "\n",
    "</span>"
   ]
  },
  {
   "cell_type": "markdown",
   "id": "46c22dfe-d203-49b1-9776-eafc764d064d",
   "metadata": {},
   "source": [
    "### 6. \n",
    "\n",
    "From the performance metrics of these currency trades, \n",
    "* Do you expect diversification is particularly useful or not? Be specific.\n",
    "* Do you expect mean-variance optimization will do relatively well out of sample? Be specific."
   ]
  },
  {
   "cell_type": "code",
   "execution_count": 52,
   "id": "04ad19bc",
   "metadata": {},
   "outputs": [
    {
     "name": "stdout",
     "output_type": "stream",
     "text": [
      "The highest correlation (75.20%) is between EUR and CHF\n",
      "The lowest correlation (7.71%) is between JPY and MXN\n"
     ]
    },
    {
     "data": {
      "text/plain": [
       "<Axes: >"
      ]
     },
     "execution_count": 52,
     "metadata": {},
     "output_type": "execute_result"
    },
    {
     "data": {
      "image/png": "[encoded data removed]",
      "text/plain": [
       "<Figure size 1050x700 with 2 Axes>"
      ]
     },
     "metadata": {},
     "output_type": "display_data"
    }
   ],
   "source": [
    "pmh.calc_correlations(xs_rets)"
   ]
  },
  {
   "cell_type": "markdown",
   "id": "766750ca",
   "metadata": {},
   "source": [
    "<span style=\"color:red;\">\n",
    "\n",
    "Based on the correlations in the above graphic, it appears there is a good amount of diversification that can be realized from a portfolio of these carry trades. However, this does not mean that MVO will do particularly well out of sample, especially since some of the assets are fairly highly correlated (EUR-CHF and EUR-GBP). These high correlations will lead to an ill-conditioned covariance matrix that will be difficult to invert for the mean-variance optimization and lead to poor performance of the portfolio OOS.\n",
    "\n",
    "</span>"
   ]
  },
  {
   "cell_type": "markdown",
   "id": "c2137495-5add-4af7-b992-7377c6b7103b",
   "metadata": {},
   "source": [
    "### 7.\n",
    "\n",
    "Calculate the tangency weights for a portfolio of these currency trades. \n",
    "\n",
    "Report the performance metrics of `2.2` for this tangency portfolio."
   ]
  },
  {
   "cell_type": "code",
   "execution_count": 53,
   "id": "1e684670",
   "metadata": {},
   "outputs": [
    {
     "name": "stdout",
     "output_type": "stream",
     "text": [
      "Assuming excess returns were provided to calculate Sharpe. If returns were provided (steady of excess returns), the column \"Sharpe\" is actually \"Mean/Volatility\"\n"
     ]
    },
    {
     "data": {
      "text/html": [
       "<style type=\"text/css\">\n",
       "</style>\n",
       "<table id=\"T_a6faa\">\n",
       "  <thead>\n",
       "    <tr>\n",
       "      <th class=\"blank level0\" >&nbsp;</th>\n",
       "      <th id=\"T_a6faa_level0_col0\" class=\"col_heading level0 col0\" >MVO Portfolio</th>\n",
       "    </tr>\n",
       "  </thead>\n",
       "  <tbody>\n",
       "    <tr>\n",
       "      <th id=\"T_a6faa_level0_row0\" class=\"row_heading level0 row0\" >Annualized Mean</th>\n",
       "      <td id=\"T_a6faa_row0_col0\" class=\"data row0 col0\" >-33.70%</td>\n",
       "    </tr>\n",
       "    <tr>\n",
       "      <th id=\"T_a6faa_level0_row1\" class=\"row_heading level0 row1\" >Annualized Vol</th>\n",
       "      <td id=\"T_a6faa_row1_col0\" class=\"data row1 col0\" >29.08%</td>\n",
       "    </tr>\n",
       "    <tr>\n",
       "      <th id=\"T_a6faa_level0_row2\" class=\"row_heading level0 row2\" >Skewness</th>\n",
       "      <td id=\"T_a6faa_row2_col0\" class=\"data row2 col0\" >67.65%</td>\n",
       "    </tr>\n",
       "    <tr>\n",
       "      <th id=\"T_a6faa_level0_row3\" class=\"row_heading level0 row3\" >Excess Kurtosis</th>\n",
       "      <td id=\"T_a6faa_row3_col0\" class=\"data row3 col0\" >381.52%</td>\n",
       "    </tr>\n",
       "    <tr>\n",
       "      <th id=\"T_a6faa_level0_row4\" class=\"row_heading level0 row4\" >Max Drawdown</th>\n",
       "      <td id=\"T_a6faa_row4_col0\" class=\"data row4 col0\" >-94.77%</td>\n",
       "    </tr>\n",
       "  </tbody>\n",
       "</table>\n"
      ],
      "text/plain": [
       "<pandas.io.formats.style.Styler at 0x162931550>"
      ]
     },
     "execution_count": 53,
     "metadata": {},
     "output_type": "execute_result"
    }
   ],
   "source": [
    "curr_tan_wts = pmh.calc_tangency_weights(xs_rets)\n",
    "mvo_pfa = pmh.create_portfolio(xs_rets, curr_tan_wts.iloc[:, 0].to_dict(), port_name='MVO Portfolio')\n",
    "pmh.calc_summary_statistics(mvo_pfa, annual_factor=252, keep_columns=['Annualized', 'Skew', 'Kurtosis', 'Drawdown'], \n",
    "                            drop_columns=['Sharpe', 'VaR']).T.style.format(\"{:.2%}\")"
   ]
  },
  {
   "cell_type": "markdown",
   "id": "293e65e5-2b25-4f83-9575-79e3f1b808c6",
   "metadata": {},
   "source": [
    "### 8.\n",
    "\n",
    "Suppose you are a USD-based investor, but you want to short `1 JPY`, and use it to go long the equivalent amount of USD.\n",
    "\n",
    "Calculate the excess return to this short-yen (SY) trade, denoted $\\tilde{r}_{t+1}^{SY}$.\n",
    "\n",
    "We're still examining `January 2018` through `August 2024`.\n",
    "\n",
    "Report the first and last three values of the timeseries of excess returns."
   ]
  },
  {
   "cell_type": "code",
   "execution_count": null,
   "id": "60b2e37a",
   "metadata": {},
   "outputs": [],
   "source": [
    "# Corrected - Shorting the JPY Trade should just be the spot holding return multiplied by JPY risk-free rate factor\n",
    "forex = fx.loc[START_DATE:END_DATE, ['JPY']].pct_change().shift(-1)\n",
    "short_jpy_trade = -(forex * (1 + rates.loc[START_DATE:END_DATE, ['JPY']].values)).dropna()"
   ]
  },
  {
   "cell_type": "code",
   "execution_count": 60,
   "id": "764762b2",
   "metadata": {},
   "outputs": [
    {
     "data": {
      "text/html": [
       "<div>\n",
       "<style scoped>\n",
       "    .dataframe tbody tr th:only-of-type {\n",
       "        vertical-align: middle;\n",
       "    }\n",
       "\n",
       "    .dataframe tbody tr th {\n",
       "        vertical-align: top;\n",
       "    }\n",
       "\n",
       "    .dataframe thead th {\n",
       "        text-align: right;\n",
       "    }\n",
       "</style>\n",
       "<table border=\"1\" class=\"dataframe\">\n",
       "  <thead>\n",
       "    <tr style=\"text-align: right;\">\n",
       "      <th></th>\n",
       "      <th>JPY</th>\n",
       "    </tr>\n",
       "    <tr>\n",
       "      <th>date</th>\n",
       "      <th></th>\n",
       "    </tr>\n",
       "  </thead>\n",
       "  <tbody>\n",
       "    <tr>\n",
       "      <th>2018-01-01</th>\n",
       "      <td>-0.0034</td>\n",
       "    </tr>\n",
       "    <tr>\n",
       "      <th>2018-01-02</th>\n",
       "      <td>0.0020</td>\n",
       "    </tr>\n",
       "    <tr>\n",
       "      <th>2018-01-03</th>\n",
       "      <td>0.0021</td>\n",
       "    </tr>\n",
       "  </tbody>\n",
       "</table>\n",
       "</div>"
      ],
      "text/plain": [
       "               JPY\n",
       "date              \n",
       "2018-01-01 -0.0034\n",
       "2018-01-02  0.0020\n",
       "2018-01-03  0.0021"
      ]
     },
     "metadata": {},
     "output_type": "display_data"
    },
    {
     "data": {
      "text/html": [
       "<div>\n",
       "<style scoped>\n",
       "    .dataframe tbody tr th:only-of-type {\n",
       "        vertical-align: middle;\n",
       "    }\n",
       "\n",
       "    .dataframe tbody tr th {\n",
       "        vertical-align: top;\n",
       "    }\n",
       "\n",
       "    .dataframe thead th {\n",
       "        text-align: right;\n",
       "    }\n",
       "</style>\n",
       "<table border=\"1\" class=\"dataframe\">\n",
       "  <thead>\n",
       "    <tr style=\"text-align: right;\">\n",
       "      <th></th>\n",
       "      <th>JPY</th>\n",
       "    </tr>\n",
       "    <tr>\n",
       "      <th>date</th>\n",
       "      <th></th>\n",
       "    </tr>\n",
       "  </thead>\n",
       "  <tbody>\n",
       "    <tr>\n",
       "      <th>2024-08-27</th>\n",
       "      <td>0.0043</td>\n",
       "    </tr>\n",
       "    <tr>\n",
       "      <th>2024-08-28</th>\n",
       "      <td>0.0027</td>\n",
       "    </tr>\n",
       "    <tr>\n",
       "      <th>2024-08-29</th>\n",
       "      <td>0.0081</td>\n",
       "    </tr>\n",
       "  </tbody>\n",
       "</table>\n",
       "</div>"
      ],
      "text/plain": [
       "              JPY\n",
       "date             \n",
       "2024-08-27 0.0043\n",
       "2024-08-28 0.0027\n",
       "2024-08-29 0.0081"
      ]
     },
     "metadata": {},
     "output_type": "display_data"
    }
   ],
   "source": [
    "display(short_jpy_trade.head(3))\n",
    "display(short_jpy_trade.tail(3))"
   ]
  },
  {
   "cell_type": "markdown",
   "id": "60cb4edc-bbe0-4a81-b87f-61dfa53f2f20",
   "metadata": {},
   "source": [
    "### 9.\n",
    "\n",
    "Report the performance statistics requested in `2.2` for this short-yen trade. \n",
    "\n",
    "Also, what date is the min and max return for this trade?"
   ]
  },
  {
   "cell_type": "code",
   "execution_count": 61,
   "id": "d9d89f91",
   "metadata": {},
   "outputs": [
    {
     "name": "stdout",
     "output_type": "stream",
     "text": [
      "Assuming excess returns were provided to calculate Sharpe. If returns were provided (steady of excess returns), the column \"Sharpe\" is actually \"Mean/Volatility\"\n"
     ]
    },
    {
     "data": {
      "text/html": [
       "<div>\n",
       "<style scoped>\n",
       "    .dataframe tbody tr th:only-of-type {\n",
       "        vertical-align: middle;\n",
       "    }\n",
       "\n",
       "    .dataframe tbody tr th {\n",
       "        vertical-align: top;\n",
       "    }\n",
       "\n",
       "    .dataframe thead th {\n",
       "        text-align: right;\n",
       "    }\n",
       "</style>\n",
       "<table border=\"1\" class=\"dataframe\">\n",
       "  <thead>\n",
       "    <tr style=\"text-align: right;\">\n",
       "      <th></th>\n",
       "      <th>JPY</th>\n",
       "    </tr>\n",
       "  </thead>\n",
       "  <tbody>\n",
       "    <tr>\n",
       "      <th>Annualized Mean</th>\n",
       "      <td>0.0342</td>\n",
       "    </tr>\n",
       "    <tr>\n",
       "      <th>Annualized Vol</th>\n",
       "      <td>0.0848</td>\n",
       "    </tr>\n",
       "    <tr>\n",
       "      <th>Annualized Sharpe</th>\n",
       "      <td>0.4030</td>\n",
       "    </tr>\n",
       "    <tr>\n",
       "      <th>Min</th>\n",
       "      <td>-0.0393</td>\n",
       "    </tr>\n",
       "    <tr>\n",
       "      <th>Max</th>\n",
       "      <td>0.0309</td>\n",
       "    </tr>\n",
       "    <tr>\n",
       "      <th>Annualized Historical VaR (5.00%)</th>\n",
       "      <td>-0.1302</td>\n",
       "    </tr>\n",
       "    <tr>\n",
       "      <th>Annualized Historical CVaR (5.00%)</th>\n",
       "      <td>-0.2080</td>\n",
       "    </tr>\n",
       "    <tr>\n",
       "      <th>Max Drawdown</th>\n",
       "      <td>-0.1550</td>\n",
       "    </tr>\n",
       "    <tr>\n",
       "      <th>Peak</th>\n",
       "      <td>2022-10-19 00:00:00</td>\n",
       "    </tr>\n",
       "    <tr>\n",
       "      <th>Bottom</th>\n",
       "      <td>2023-01-12 00:00:00</td>\n",
       "    </tr>\n",
       "  </tbody>\n",
       "</table>\n",
       "</div>"
      ],
      "text/plain": [
       "                                                    JPY\n",
       "Annualized Mean                                  0.0342\n",
       "Annualized Vol                                   0.0848\n",
       "Annualized Sharpe                                0.4030\n",
       "Min                                             -0.0393\n",
       "Max                                              0.0309\n",
       "Annualized Historical VaR (5.00%)               -0.1302\n",
       "Annualized Historical CVaR (5.00%)              -0.2080\n",
       "Max Drawdown                                    -0.1550\n",
       "Peak                                2022-10-19 00:00:00\n",
       "Bottom                              2023-01-12 00:00:00"
      ]
     },
     "execution_count": 61,
     "metadata": {},
     "output_type": "execute_result"
    }
   ],
   "source": [
    "summary_stats = pmh.calc_summary_statistics(short_jpy_trade, annual_factor=252,\n",
    "                            keep_columns=['Annualized', 'Drawdown', 'Peak', 'Bottom', 'Min', 'Max']).T\n",
    "summary_stats"
   ]
  },
  {
   "cell_type": "markdown",
   "id": "d6cf51ec",
   "metadata": {
    "vscode": {
     "languageId": "plaintext"
    }
   },
   "source": [
    "***"
   ]
  }
 ],
 "metadata": {
  "hide_input": false,
  "kernelspec": {
   "display_name": "base",
   "language": "python",
   "name": "python3"
  },
  "language_info": {
   "codemirror_mode": {
    "name": "ipython",
    "version": 3
   },
   "file_extension": ".py",
   "mimetype": "text/x-python",
   "name": "python",
   "nbconvert_exporter": "python",
   "pygments_lexer": "ipython3",
   "version": "3.12.4"
  }
 },
 "nbformat": 4,
 "nbformat_minor": 5
}
