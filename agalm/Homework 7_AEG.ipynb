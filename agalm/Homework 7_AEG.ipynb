{
 "cells": [
  {
   "cell_type": "markdown",
   "id": "5b7270b5",
   "metadata": {},
   "source": [
    "# 1 GMO"
   ]
  },
  {
   "cell_type": "markdown",
   "id": "27be4fef",
   "metadata": {},
   "source": [
    "This section is not graded, and you do not need to submit your answers. But you are expected to consider these issues and be ready to discuss them."
   ]
  },
  {
   "cell_type": "markdown",
   "id": "78528d2c",
   "metadata": {},
   "source": [
    "## 1. GMO’s approach."
   ]
  },
  {
   "cell_type": "markdown",
   "id": "c2370297",
   "metadata": {},
   "source": [
    "- (a) Why does GMO believe they can more easily predict long-run than short-run asset class performance?"
   ]
  },
  {
   "cell_type": "markdown",
   "id": "61e02a4c",
   "metadata": {},
   "source": [
    "<span style=\"color:red;\">\n",
    "\n",
    "Because they are betting on large factors that take time to play out. They also are analyzing series that have serial correlation, which have more predictive power over a longer time horizon.\n",
    "\n",
    "</span>"
   ]
  },
  {
   "cell_type": "markdown",
   "id": "7d795558",
   "metadata": {},
   "source": [
    "- (b) What predicting variables does the case mention are used by GMO? Does this fit with the goal of long-run forecasts?"
   ]
  },
  {
   "cell_type": "markdown",
   "id": "075d880e",
   "metadata": {},
   "source": [
    "<span style=\"color:red;\">\n",
    "\n",
    "It uses some fundamental company variables such as:\n",
    "* Dividend-Price Ratio\n",
    "* Growth in sales per share\n",
    "* Multiple Expansion\n",
    "* Change in Profit Margin\n",
    "* Macro Variables (GDP, inflation, corporate profits, etc.)\n",
    "\n",
    "</span>"
   ]
  },
  {
   "cell_type": "markdown",
   "id": "3b74a5f4",
   "metadata": {},
   "source": [
    "- (c) How has this approach led to contrarian positions?"
   ]
  },
  {
   "cell_type": "markdown",
   "id": "5036d4eb",
   "metadata": {},
   "source": [
    "<span style=\"color:red;\">\n",
    "\n",
    "Because they try to invest in value positions, which are relatively cheap at the time. They are cheap because they have not been recent winners. This leads to a sort of momentum consequence over the short-term which makes value investments look contrarian.\n",
    "\n",
    "</span>"
   ]
  },
  {
   "cell_type": "markdown",
   "id": "dbda5b74",
   "metadata": {},
   "source": [
    "- (d) How does this approach raise business risk and managerial career risk?"
   ]
  },
  {
   "cell_type": "markdown",
   "id": "1cde2d25",
   "metadata": {},
   "source": [
    "<span style=\"color:red;\">\n",
    "\n",
    "Their signals lead them to invest like value investors. This means they are often investing in relatively cheap assets and betting that their value will mean revert. They must consequently lose money in the short-term to realize big returns on their contrarian bets.\n",
    "\n",
    "</span>"
   ]
  },
  {
   "cell_type": "markdown",
   "id": "888fb501",
   "metadata": {},
   "source": [
    "## 2. The market environment."
   ]
  },
  {
   "cell_type": "markdown",
   "id": "33c1f56a",
   "metadata": {},
   "source": [
    "- (a) We often estimate the market risk premium by looking at a large sample of historic data. What reasons does the case give to be skeptical that the market risk premium will be as high in the future as it has been over the past 50 years?"
   ]
  },
  {
   "cell_type": "markdown",
   "id": "b8fbb83b",
   "metadata": {},
   "source": [
    "<span style=\"color:red;\">\n",
    "\n",
    "\n",
    "\n",
    "</span>"
   ]
  },
  {
   "cell_type": "markdown",
   "id": "0da84d83",
   "metadata": {},
   "source": [
    "- (b) In 2007, GMO forecasts real excess equity returns will be negative. What are the biggest drivers of their pessimistic conditional forecast relative to the unconditional forecast. (See Exhibit 9.)"
   ]
  },
  {
   "cell_type": "markdown",
   "id": "e3772c91",
   "metadata": {},
   "source": [
    "<span style=\"color:red;\">\n",
    "\n",
    "\n",
    "\n",
    "</span>"
   ]
  },
  {
   "cell_type": "markdown",
   "id": "ae409d43",
   "metadata": {},
   "source": [
    "- (c) In the 2011 forecast, what components has GMO revised most relative to 2007? Now how does their conditional forecast compare to the unconditional? (See Exhibit 10.)"
   ]
  },
  {
   "cell_type": "markdown",
   "id": "18aeee59",
   "metadata": {},
   "source": [
    "<span style=\"color:red;\">\n",
    "\n",
    "\n",
    "\n",
    "</span>"
   ]
  },
  {
   "cell_type": "markdown",
   "id": "5ea31040",
   "metadata": {},
   "source": [
    "## 3. Consider the asset class forecasts in Exhibit 1."
   ]
  },
  {
   "cell_type": "markdown",
   "id": "aee8cafb",
   "metadata": {},
   "source": [
    "- (a) Which asset class did GMO estimate to have a negative 10-year return over 2002-2011?"
   ]
  },
  {
   "cell_type": "markdown",
   "id": "d1f21bbc",
   "metadata": {},
   "source": [
    "<span style=\"color:red;\">\n",
    "\n",
    "\n",
    "\n",
    "</span>"
   ]
  },
  {
   "cell_type": "markdown",
   "id": "45d4223c",
   "metadata": {},
   "source": [
    "- (b) Which asset classes substantially outperformed GMO’s estimate over that time period?"
   ]
  },
  {
   "cell_type": "markdown",
   "id": "2e74c193",
   "metadata": {},
   "source": [
    "<span style=\"color:red;\">\n",
    "\n",
    "\n",
    "\n",
    "</span>"
   ]
  },
  {
   "cell_type": "markdown",
   "id": "014916b0",
   "metadata": {},
   "source": [
    "- (c) Which asset classes substantially underperformed GMO’s estimate over that time period?"
   ]
  },
  {
   "cell_type": "markdown",
   "id": "33778517",
   "metadata": {},
   "source": [
    "<span style=\"color:red;\">\n",
    "\n",
    "\n",
    "\n",
    "</span>"
   ]
  },
  {
   "cell_type": "markdown",
   "id": "2f7b35a5",
   "metadata": {},
   "source": [
    "## 4. Fund Performance."
   ]
  },
  {
   "cell_type": "markdown",
   "id": "f59ac7c1",
   "metadata": {},
   "source": [
    "- (a) In which asset class was GMWAX most heavily allocated throughout the majority of 1997-2011?"
   ]
  },
  {
   "cell_type": "markdown",
   "id": "58a8ec46",
   "metadata": {},
   "source": [
    "<span style=\"color:red;\">\n",
    "\n",
    "\n",
    "\n",
    "</span>"
   ]
  },
  {
   "cell_type": "markdown",
   "id": "9f272b8c",
   "metadata": {},
   "source": [
    "- (b) Comment on the performance of GMWAX versus its benchmark. (No calculation needed; simply comment on the comparison in the exhibits.)"
   ]
  },
  {
   "cell_type": "markdown",
   "id": "e9b743e6",
   "metadata": {},
   "source": [
    "<span style=\"color:red;\">\n",
    "\n",
    "\n",
    "\n",
    "</span>"
   ]
  },
  {
   "cell_type": "markdown",
   "id": "210c6daf",
   "metadata": {},
   "source": [
    "# 2 Analyzing GMO"
   ]
  },
  {
   "cell_type": "code",
   "execution_count": 67,
   "id": "a080f07f",
   "metadata": {},
   "outputs": [
    {
     "name": "stdout",
     "output_type": "stream",
     "text": [
      "The autoreload extension is already loaded. To reload it, use:\n",
      "  %reload_ext autoreload\n"
     ]
    }
   ],
   "source": [
    "import os\n",
    "import sys\n",
    "import pandas as pd\n",
    "from scipy.stats import norm, chi2\n",
    "import statsmodels.api as sm\n",
    "import numpy as np\n",
    "from functools import partial\n",
    "import matplotlib.pyplot as plt\n",
    "import seaborn as sns\n",
    "import warnings\n",
    "\n",
    "current_dir = os.getcwd()\n",
    "parent_dir = os.path.abspath(os.path.join(current_dir, os.pardir))\n",
    "grandparent_dir = os.path.abspath(os.path.join(parent_dir, os.pardir))\n",
    "sys.path.insert(0, parent_dir)\n",
    "sys.path.insert(0, grandparent_dir)\n",
    "import cmds.portfolio_management_helper as pmh\n",
    "\n",
    "plt.style.use(\"seaborn-v0_8-whitegrid\")\n",
    "PLOT_WIDTH, PLOT_HEIGHT = 8, 5\n",
    "COLORS = [\"blue\", \"red\", \"orange\"]\n",
    "\n",
    "warnings.filterwarnings('ignore')\n",
    "pd.options.display.float_format = \"{:.4f}\".format\n",
    "p = plt.rcParams\n",
    "\n",
    "%matplotlib inline\n",
    "%load_ext autoreload\n",
    "%autoreload 2"
   ]
  },
  {
   "cell_type": "markdown",
   "id": "d91e5639",
   "metadata": {},
   "source": [
    "This section utilizes data in the file, `gmo_data.xlsx`."
   ]
  },
  {
   "cell_type": "markdown",
   "id": "0a7cbb64",
   "metadata": {},
   "source": [
    "Examine GMO’s performance. Use the risk-free rate to convert the total returns to excess returns."
   ]
  },
  {
   "cell_type": "code",
   "execution_count": 68,
   "id": "3ca0ab5e",
   "metadata": {},
   "outputs": [],
   "source": [
    "DATA_PATH = parent_dir + '/data/'\n",
    "FILE_NAME = DATA_PATH + 'gmo_data.xlsx'\n",
    "signals = pmh.read_excel_default(FILE_NAME, \n",
    "                                 sheet_name='signals',\n",
    "                                 index_col='date', parse_dates=True)\n",
    "rf_rets = pmh.read_excel_default(FILE_NAME, \n",
    "                                 sheet_name='risk-free rate',\n",
    "                                 index_col='date', parse_dates=True)\n",
    "rf_rets /= 12   # risk-free returns are originally provided on annualized\n",
    "total_rets = pmh.read_excel_default(FILE_NAME, \n",
    "                                 sheet_name='total returns',\n",
    "                                 index_col='date', parse_dates=True)\n",
    "excess_rets = total_rets - rf_rets.values"
   ]
  },
  {
   "cell_type": "code",
   "execution_count": 69,
   "id": "2aa1d91b",
   "metadata": {},
   "outputs": [
    {
     "data": {
      "text/html": [
       "<div>\n",
       "<style scoped>\n",
       "    .dataframe tbody tr th:only-of-type {\n",
       "        vertical-align: middle;\n",
       "    }\n",
       "\n",
       "    .dataframe tbody tr th {\n",
       "        vertical-align: top;\n",
       "    }\n",
       "\n",
       "    .dataframe thead th {\n",
       "        text-align: right;\n",
       "    }\n",
       "</style>\n",
       "<table border=\"1\" class=\"dataframe\">\n",
       "  <thead>\n",
       "    <tr style=\"text-align: right;\">\n",
       "      <th></th>\n",
       "      <th>SPY</th>\n",
       "      <th>GMWAX</th>\n",
       "      <th>GMGEX</th>\n",
       "    </tr>\n",
       "    <tr>\n",
       "      <th>date</th>\n",
       "      <th></th>\n",
       "      <th></th>\n",
       "      <th></th>\n",
       "    </tr>\n",
       "  </thead>\n",
       "  <tbody>\n",
       "    <tr>\n",
       "      <th>1996-12-31</th>\n",
       "      <td>-0.0276</td>\n",
       "      <td>-0.0264</td>\n",
       "      <td>-0.0173</td>\n",
       "    </tr>\n",
       "    <tr>\n",
       "      <th>1997-01-31</th>\n",
       "      <td>0.0283</td>\n",
       "      <td>-0.0162</td>\n",
       "      <td>0.0123</td>\n",
       "    </tr>\n",
       "    <tr>\n",
       "      <th>1997-02-28</th>\n",
       "      <td>0.0337</td>\n",
       "      <td>0.0014</td>\n",
       "      <td>0.0208</td>\n",
       "    </tr>\n",
       "    <tr>\n",
       "      <th>1997-03-31</th>\n",
       "      <td>-0.0182</td>\n",
       "      <td>-0.0182</td>\n",
       "      <td>-0.0005</td>\n",
       "    </tr>\n",
       "    <tr>\n",
       "      <th>1997-04-30</th>\n",
       "      <td>0.0407</td>\n",
       "      <td>-0.0291</td>\n",
       "      <td>-0.0049</td>\n",
       "    </tr>\n",
       "    <tr>\n",
       "      <th>...</th>\n",
       "      <td>...</td>\n",
       "      <td>...</td>\n",
       "      <td>...</td>\n",
       "    </tr>\n",
       "    <tr>\n",
       "      <th>2024-06-28</th>\n",
       "      <td>5.5199</td>\n",
       "      <td>2.0087</td>\n",
       "      <td>-0.5381</td>\n",
       "    </tr>\n",
       "    <tr>\n",
       "      <th>2024-07-31</th>\n",
       "      <td>5.5702</td>\n",
       "      <td>2.0869</td>\n",
       "      <td>-0.5241</td>\n",
       "    </tr>\n",
       "    <tr>\n",
       "      <th>2024-08-30</th>\n",
       "      <td>5.6957</td>\n",
       "      <td>2.1191</td>\n",
       "      <td>-0.5168</td>\n",
       "    </tr>\n",
       "    <tr>\n",
       "      <th>2024-09-30</th>\n",
       "      <td>5.8106</td>\n",
       "      <td>2.1459</td>\n",
       "      <td>-0.5113</td>\n",
       "    </tr>\n",
       "    <tr>\n",
       "      <th>2024-10-31</th>\n",
       "      <td>5.7241</td>\n",
       "      <td>2.0179</td>\n",
       "      <td>-0.5324</td>\n",
       "    </tr>\n",
       "  </tbody>\n",
       "</table>\n",
       "<p>335 rows × 3 columns</p>\n",
       "</div>"
      ],
      "text/plain": [
       "               SPY   GMWAX   GMGEX\n",
       "date                              \n",
       "1996-12-31 -0.0276 -0.0264 -0.0173\n",
       "1997-01-31  0.0283 -0.0162  0.0123\n",
       "1997-02-28  0.0337  0.0014  0.0208\n",
       "1997-03-31 -0.0182 -0.0182 -0.0005\n",
       "1997-04-30  0.0407 -0.0291 -0.0049\n",
       "...            ...     ...     ...\n",
       "2024-06-28  5.5199  2.0087 -0.5381\n",
       "2024-07-31  5.5702  2.0869 -0.5241\n",
       "2024-08-30  5.6957  2.1191 -0.5168\n",
       "2024-09-30  5.8106  2.1459 -0.5113\n",
       "2024-10-31  5.7241  2.0179 -0.5324\n",
       "\n",
       "[335 rows x 3 columns]"
      ]
     },
     "execution_count": 69,
     "metadata": {},
     "output_type": "execute_result"
    },
    {
     "data": {
      "image/png": "[encoded data removed]",
      "text/plain": [
       "<Figure size 700x500 with 1 Axes>"
      ]
     },
     "metadata": {},
     "output_type": "display_data"
    }
   ],
   "source": [
    "pmh.calc_cummulative_returns(excess_rets, return_series=True)"
   ]
  },
  {
   "cell_type": "markdown",
   "id": "26c2fc3c",
   "metadata": {},
   "source": [
    "## 1. Calculate the mean, volatility, and Sharpe ratio for GMWAX. Do this for three samples:"
   ]
  },
  {
   "cell_type": "markdown",
   "id": "b9fe75e4",
   "metadata": {},
   "source": [
    "- from inception through 2011\n",
    "- 2012-present\n",
    "- inception - present"
   ]
  },
  {
   "cell_type": "code",
   "execution_count": 93,
   "id": "83524ae4",
   "metadata": {},
   "outputs": [
    {
     "data": {
      "text/html": [
       "<style type=\"text/css\">\n",
       "</style>\n",
       "<table id=\"T_110d5\">\n",
       "  <thead>\n",
       "    <tr>\n",
       "      <th class=\"blank level0\" >&nbsp;</th>\n",
       "      <th id=\"T_110d5_level0_col0\" class=\"col_heading level0 col0\" >GMWAX Inception-2011</th>\n",
       "      <th id=\"T_110d5_level0_col1\" class=\"col_heading level0 col1\" >GMWAX 2012-Present</th>\n",
       "      <th id=\"T_110d5_level0_col2\" class=\"col_heading level0 col2\" >GMWAX Inception-Present</th>\n",
       "    </tr>\n",
       "  </thead>\n",
       "  <tbody>\n",
       "    <tr>\n",
       "      <th id=\"T_110d5_level0_row0\" class=\"row_heading level0 row0\" >Annualized Mean</th>\n",
       "      <td id=\"T_110d5_row0_col0\" class=\"data row0 col0\" >4.64%</td>\n",
       "      <td id=\"T_110d5_row0_col1\" class=\"data row0 col1\" >4.34%</td>\n",
       "      <td id=\"T_110d5_row0_col2\" class=\"data row0 col2\" >4.50%</td>\n",
       "    </tr>\n",
       "    <tr>\n",
       "      <th id=\"T_110d5_level0_row1\" class=\"row_heading level0 row1\" >Annualized Vol</th>\n",
       "      <td id=\"T_110d5_row1_col0\" class=\"data row1 col0\" >11.05%</td>\n",
       "      <td id=\"T_110d5_row1_col1\" class=\"data row1 col1\" >9.49%</td>\n",
       "      <td id=\"T_110d5_row1_col2\" class=\"data row1 col2\" >10.35%</td>\n",
       "    </tr>\n",
       "    <tr>\n",
       "      <th id=\"T_110d5_level0_row2\" class=\"row_heading level0 row2\" >Annualized Sharpe</th>\n",
       "      <td id=\"T_110d5_row2_col0\" class=\"data row2 col0\" >42.01%</td>\n",
       "      <td id=\"T_110d5_row2_col1\" class=\"data row2 col1\" >45.73%</td>\n",
       "      <td id=\"T_110d5_row2_col2\" class=\"data row2 col2\" >43.52%</td>\n",
       "    </tr>\n",
       "  </tbody>\n",
       "</table>\n"
      ],
      "text/plain": [
       "<pandas.io.formats.style.Styler at 0x153295e50>"
      ]
     },
     "execution_count": 93,
     "metadata": {},
     "output_type": "execute_result"
    }
   ],
   "source": [
    "macro_stats = pmh.calc_summary_statistics(excess_rets.GMWAX.to_frame('GMWAX'), annual_factor=12, provided_excess_returns=True, \n",
    "                            timeframes={'Inception-2011': ['1996', '2011'],\n",
    "                                        '2012-Present': ['2012', '2024'],\n",
    "                                        'Inception-Present': ['1996', '2024']},\n",
    "                            keep_columns=['Annualized Mean', 'Annualized Vol', 'Annualized Sharpe']).T.style.format(\"{:.2%}\")\n",
    "macro_stats"
   ]
  },
  {
   "cell_type": "markdown",
   "id": "662ed33f",
   "metadata": {},
   "source": [
    "Has the mean, vol, and Sharpe changed much since the case?"
   ]
  },
  {
   "cell_type": "markdown",
   "id": "2246d094",
   "metadata": {},
   "source": [
    "<span style=\"color:red;\">\n",
    "\n",
    "No, the mean, vol, and Sharpe ratios have not changed much since the case. The most meaningful change has been a drop in the volatility, though it is not substantial.\n",
    "\n",
    "</span>"
   ]
  },
  {
   "cell_type": "markdown",
   "id": "740a5d17",
   "metadata": {},
   "source": [
    "## 2. GMO believes a risk premium is compensation for a security’s tendency to lose money at “bad times”. For all three samples, analyze extreme scenarios by looking at:"
   ]
  },
  {
   "cell_type": "markdown",
   "id": "a4b01543",
   "metadata": {},
   "source": [
    "- Min return\n",
    "- 5th percentile (VaR-5th)\n",
    "- Maximum drawdown"
   ]
  },
  {
   "cell_type": "code",
   "execution_count": 71,
   "id": "51bda15a",
   "metadata": {},
   "outputs": [
    {
     "data": {
      "text/html": [
       "<style type=\"text/css\">\n",
       "</style>\n",
       "<table id=\"T_a799b\">\n",
       "  <thead>\n",
       "    <tr>\n",
       "      <th class=\"blank level0\" >&nbsp;</th>\n",
       "      <th id=\"T_a799b_level0_col0\" class=\"col_heading level0 col0\" >GMWAX Inception-2011</th>\n",
       "      <th id=\"T_a799b_level0_col1\" class=\"col_heading level0 col1\" >GMWAX 2012-Present</th>\n",
       "      <th id=\"T_a799b_level0_col2\" class=\"col_heading level0 col2\" >GMWAX Inception-Present</th>\n",
       "    </tr>\n",
       "  </thead>\n",
       "  <tbody>\n",
       "    <tr>\n",
       "      <th id=\"T_a799b_level0_row0\" class=\"row_heading level0 row0\" >Min</th>\n",
       "      <td id=\"T_a799b_row0_col0\" class=\"data row0 col0\" >-14.92%</td>\n",
       "      <td id=\"T_a799b_row0_col1\" class=\"data row0 col1\" >-11.50%</td>\n",
       "      <td id=\"T_a799b_row0_col2\" class=\"data row0 col2\" >-14.92%</td>\n",
       "    </tr>\n",
       "    <tr>\n",
       "      <th id=\"T_a799b_level0_row1\" class=\"row_heading level0 row1\" >Historical VaR (5.00%)</th>\n",
       "      <td id=\"T_a799b_row1_col0\" class=\"data row1 col0\" >-4.40%</td>\n",
       "      <td id=\"T_a799b_row1_col1\" class=\"data row1 col1\" >-4.09%</td>\n",
       "      <td id=\"T_a799b_row1_col2\" class=\"data row1 col2\" >-4.14%</td>\n",
       "    </tr>\n",
       "    <tr>\n",
       "      <th id=\"T_a799b_level0_row2\" class=\"row_heading level0 row2\" >Annualized Historical VaR (5.00%)</th>\n",
       "      <td id=\"T_a799b_row2_col0\" class=\"data row2 col0\" >-15.24%</td>\n",
       "      <td id=\"T_a799b_row2_col1\" class=\"data row2 col1\" >-14.15%</td>\n",
       "      <td id=\"T_a799b_row2_col2\" class=\"data row2 col2\" >-14.33%</td>\n",
       "    </tr>\n",
       "    <tr>\n",
       "      <th id=\"T_a799b_level0_row3\" class=\"row_heading level0 row3\" >Historical CVaR (5.00%)</th>\n",
       "      <td id=\"T_a799b_row3_col0\" class=\"data row3 col0\" >-7.41%</td>\n",
       "      <td id=\"T_a799b_row3_col1\" class=\"data row3 col1\" >-5.89%</td>\n",
       "      <td id=\"T_a799b_row3_col2\" class=\"data row3 col2\" >-6.88%</td>\n",
       "    </tr>\n",
       "    <tr>\n",
       "      <th id=\"T_a799b_level0_row4\" class=\"row_heading level0 row4\" >Annualized Historical CVaR (5.00%)</th>\n",
       "      <td id=\"T_a799b_row4_col0\" class=\"data row4 col0\" >-25.66%</td>\n",
       "      <td id=\"T_a799b_row4_col1\" class=\"data row4 col1\" >-20.39%</td>\n",
       "      <td id=\"T_a799b_row4_col2\" class=\"data row4 col2\" >-23.85%</td>\n",
       "    </tr>\n",
       "    <tr>\n",
       "      <th id=\"T_a799b_level0_row5\" class=\"row_heading level0 row5\" >Max Drawdown</th>\n",
       "      <td id=\"T_a799b_row5_col0\" class=\"data row5 col0\" >-30.65%</td>\n",
       "      <td id=\"T_a799b_row5_col1\" class=\"data row5 col1\" >-22.56%</td>\n",
       "      <td id=\"T_a799b_row5_col2\" class=\"data row5 col2\" >-30.65%</td>\n",
       "    </tr>\n",
       "  </tbody>\n",
       "</table>\n"
      ],
      "text/plain": [
       "<pandas.io.formats.style.Styler at 0x153288e00>"
      ]
     },
     "execution_count": 71,
     "metadata": {},
     "output_type": "execute_result"
    }
   ],
   "source": [
    "macro_risk = pmh.calc_summary_statistics(excess_rets.GMWAX.to_frame('GMWAX'), annual_factor=12, provided_excess_returns=True,\n",
    "                            timeframes={'Inception-2011': ['1996', '2011'],\n",
    "                                        '2012-Present': ['2012', '2024'],\n",
    "                                        'Inception-Present': ['1996', '2024']},\n",
    "                            keep_columns=['Min', 'VaR', 'Drawdown']).T.style.format(\"{:.2%}\")\n",
    "macro_risk"
   ]
  },
  {
   "cell_type": "markdown",
   "id": "8799c712",
   "metadata": {},
   "source": [
    "- (a) Does GMWAX have high or low tail-risk as seen by these stats?\n",
    "- (b) Does that vary much across the two subsamples?"
   ]
  },
  {
   "cell_type": "markdown",
   "id": "aee66066",
   "metadata": {},
   "source": [
    "<span style=\"color:red;\">\n",
    "\n",
    "(a) GMWAX appears to have relatively average tail-risk. The monthly VaR is between 4-4.5% in each sample period, and the max drawdown is about 31% in the sample period that includes the GFC and about 23% in the sample period that includes COVID. These were periods of sharp drawdowns all across markets, but the max drawdown of the GMWAX fund appears fairly reasonable. \n",
    "\n",
    "(b) The tail risk does not vary that much across the two subsamples. While the VaR and drawdowns are less severe in the more recent sample period, it doesn't appear to be dramatically different.\n",
    "\n",
    "</span>"
   ]
  },
  {
   "cell_type": "markdown",
   "id": "f617d310",
   "metadata": {},
   "source": [
    "## 3. For all three samples, regress excess returns of GMWAX on excess returns of SPY."
   ]
  },
  {
   "cell_type": "markdown",
   "id": "712fb5ad",
   "metadata": {},
   "source": [
    "- (a) Report the estimated alpha, beta, and r-squared.\n",
    "- (b) Is GMWAX a low-beta strategy? Has that changed since the case?\n",
    "- (c) Does GMWAX provide alpha? Has that changed across the subsamples?"
   ]
  },
  {
   "cell_type": "code",
   "execution_count": 72,
   "id": "13fe9309",
   "metadata": {},
   "outputs": [
    {
     "name": "stdout",
     "output_type": "stream",
     "text": [
      "\"calc_regression\" assumes excess returns to calculate Information and Treynor Ratios\n"
     ]
    },
    {
     "data": {
      "text/html": [
       "<div>\n",
       "<style scoped>\n",
       "    .dataframe tbody tr th:only-of-type {\n",
       "        vertical-align: middle;\n",
       "    }\n",
       "\n",
       "    .dataframe tbody tr th {\n",
       "        vertical-align: top;\n",
       "    }\n",
       "\n",
       "    .dataframe thead tr th {\n",
       "        text-align: left;\n",
       "    }\n",
       "</style>\n",
       "<table border=\"1\" class=\"dataframe\">\n",
       "  <thead>\n",
       "    <tr>\n",
       "      <th></th>\n",
       "      <th>GMWAX Inception-2011</th>\n",
       "      <th>GMWAX 2012-Present</th>\n",
       "      <th>GMWAX Inception-Present</th>\n",
       "    </tr>\n",
       "  </thead>\n",
       "  <tbody>\n",
       "    <tr>\n",
       "      <th>Annualized Alpha</th>\n",
       "      <td>0.0270</td>\n",
       "      <td>-0.0340</td>\n",
       "      <td>0.0006</td>\n",
       "    </tr>\n",
       "    <tr>\n",
       "      <th>R-Squared</th>\n",
       "      <td>0.6487</td>\n",
       "      <td>0.7487</td>\n",
       "      <td>0.6802</td>\n",
       "    </tr>\n",
       "    <tr>\n",
       "      <th>SPY Beta</th>\n",
       "      <td>0.5421</td>\n",
       "      <td>0.5818</td>\n",
       "      <td>0.5526</td>\n",
       "    </tr>\n",
       "  </tbody>\n",
       "</table>\n",
       "</div>"
      ],
      "text/plain": [
       "                 GMWAX Inception-2011 GMWAX 2012-Present  \\\n",
       "Annualized Alpha               0.0270            -0.0340   \n",
       "R-Squared                      0.6487             0.7487   \n",
       "SPY Beta                       0.5421             0.5818   \n",
       "\n",
       "                 GMWAX Inception-Present  \n",
       "Annualized Alpha                  0.0006  \n",
       "R-Squared                         0.6802  \n",
       "SPY Beta                          0.5526  "
      ]
     },
     "execution_count": 72,
     "metadata": {},
     "output_type": "execute_result"
    }
   ],
   "source": [
    "macro_regr = pmh.calc_regression(excess_rets['GMWAX'].to_frame('GMWAX'), excess_rets['SPY'].to_frame('SPY'), intercept=True, annual_factor=12,\n",
    "                    timeframes={'Inception-2011': ['1996', '2011'],\n",
    "                                '2012-Present': ['2012', '2024'],\n",
    "                                'Inception-Present': ['1996', '2024']},\n",
    "                    keep_columns=['R-Squared', 'Annualized Alpha', 'Beta']).T\n",
    "macro_regr"
   ]
  },
  {
   "cell_type": "markdown",
   "id": "76aaf69c",
   "metadata": {},
   "source": [
    "<span style=\"color:red;\">\n",
    "\n",
    "(b) Yes, GMWAX is a low-beta strategy (i.e: market beta < 1). This has not changed since the case.\n",
    "\n",
    "(c) In the first sample period (before the case) GMWAX does appear to provide ~2.5% alpha over the market. However, in the sample period following the case, GMWAX appears to provide negative alpha below the market return. Over the full sample period, GMWAX does not appear to provide alpha. \n",
    "\n",
    "</span>"
   ]
  },
  {
   "cell_type": "markdown",
   "id": "ea166485",
   "metadata": {},
   "source": [
    "## 4. Above, we’ve evaluated GMO’s macro fund, ”GMWAX”, as studied in the case. Now, consider GMO’s equity fund, ”GMGEX”."
   ]
  },
  {
   "cell_type": "markdown",
   "id": "bae57361",
   "metadata": {},
   "source": [
    "Compute the performance stats of 3.1-3.3 for GMGEX. What are some of the major differences between these two strategies?"
   ]
  },
  {
   "cell_type": "code",
   "execution_count": 73,
   "id": "5598d8a8",
   "metadata": {},
   "outputs": [
    {
     "data": {
      "text/html": [
       "<style type=\"text/css\">\n",
       "</style>\n",
       "<table id=\"T_73b61\">\n",
       "  <thead>\n",
       "    <tr>\n",
       "      <th class=\"blank level0\" >&nbsp;</th>\n",
       "      <th id=\"T_73b61_level0_col0\" class=\"col_heading level0 col0\" >GMWAX Inception-2011</th>\n",
       "      <th id=\"T_73b61_level0_col1\" class=\"col_heading level0 col1\" >GMWAX 2012-Present</th>\n",
       "      <th id=\"T_73b61_level0_col2\" class=\"col_heading level0 col2\" >GMWAX Inception-Present</th>\n",
       "    </tr>\n",
       "  </thead>\n",
       "  <tbody>\n",
       "    <tr>\n",
       "      <th id=\"T_73b61_level0_row0\" class=\"row_heading level0 row0\" >Annualized Mean</th>\n",
       "      <td id=\"T_73b61_row0_col0\" class=\"data row0 col0\" >4.64%</td>\n",
       "      <td id=\"T_73b61_row0_col1\" class=\"data row0 col1\" >4.34%</td>\n",
       "      <td id=\"T_73b61_row0_col2\" class=\"data row0 col2\" >4.50%</td>\n",
       "    </tr>\n",
       "    <tr>\n",
       "      <th id=\"T_73b61_level0_row1\" class=\"row_heading level0 row1\" >Annualized Vol</th>\n",
       "      <td id=\"T_73b61_row1_col0\" class=\"data row1 col0\" >11.05%</td>\n",
       "      <td id=\"T_73b61_row1_col1\" class=\"data row1 col1\" >9.49%</td>\n",
       "      <td id=\"T_73b61_row1_col2\" class=\"data row1 col2\" >10.35%</td>\n",
       "    </tr>\n",
       "    <tr>\n",
       "      <th id=\"T_73b61_level0_row2\" class=\"row_heading level0 row2\" >Annualized Sharpe</th>\n",
       "      <td id=\"T_73b61_row2_col0\" class=\"data row2 col0\" >42.01%</td>\n",
       "      <td id=\"T_73b61_row2_col1\" class=\"data row2 col1\" >45.73%</td>\n",
       "      <td id=\"T_73b61_row2_col2\" class=\"data row2 col2\" >43.52%</td>\n",
       "    </tr>\n",
       "  </tbody>\n",
       "</table>\n"
      ],
      "text/plain": [
       "<pandas.io.formats.style.Styler at 0x1531863c0>"
      ]
     },
     "metadata": {},
     "output_type": "display_data"
    },
    {
     "data": {
      "text/html": [
       "<style type=\"text/css\">\n",
       "</style>\n",
       "<table id=\"T_81999\">\n",
       "  <thead>\n",
       "    <tr>\n",
       "      <th class=\"blank level0\" >&nbsp;</th>\n",
       "      <th id=\"T_81999_level0_col0\" class=\"col_heading level0 col0\" >GMGEX Inception-2011</th>\n",
       "      <th id=\"T_81999_level0_col1\" class=\"col_heading level0 col1\" >GMGEX 2012-Present</th>\n",
       "      <th id=\"T_81999_level0_col2\" class=\"col_heading level0 col2\" >GMGEX Inception-Present</th>\n",
       "    </tr>\n",
       "  </thead>\n",
       "  <tbody>\n",
       "    <tr>\n",
       "      <th id=\"T_81999_level0_row0\" class=\"row_heading level0 row0\" >Annualized Mean</th>\n",
       "      <td id=\"T_81999_row0_col0\" class=\"data row0 col0\" >-0.38%</td>\n",
       "      <td id=\"T_81999_row0_col1\" class=\"data row0 col1\" >0.13%</td>\n",
       "      <td id=\"T_81999_row0_col2\" class=\"data row0 col2\" >-0.15%</td>\n",
       "    </tr>\n",
       "    <tr>\n",
       "      <th id=\"T_81999_level0_row1\" class=\"row_heading level0 row1\" >Annualized Vol</th>\n",
       "      <td id=\"T_81999_row1_col0\" class=\"data row1 col0\" >14.73%</td>\n",
       "      <td id=\"T_81999_row1_col1\" class=\"data row1 col1\" >23.56%</td>\n",
       "      <td id=\"T_81999_row1_col2\" class=\"data row1 col2\" >19.26%</td>\n",
       "    </tr>\n",
       "    <tr>\n",
       "      <th id=\"T_81999_level0_row2\" class=\"row_heading level0 row2\" >Annualized Sharpe</th>\n",
       "      <td id=\"T_81999_row2_col0\" class=\"data row2 col0\" >-2.60%</td>\n",
       "      <td id=\"T_81999_row2_col1\" class=\"data row2 col1\" >0.56%</td>\n",
       "      <td id=\"T_81999_row2_col2\" class=\"data row2 col2\" >-0.76%</td>\n",
       "    </tr>\n",
       "  </tbody>\n",
       "</table>\n"
      ],
      "text/plain": [
       "<pandas.io.formats.style.Styler at 0x15328b5c0>"
      ]
     },
     "execution_count": 73,
     "metadata": {},
     "output_type": "execute_result"
    }
   ],
   "source": [
    "# Returns Statistics\n",
    "display(macro_stats)\n",
    "pmh.calc_summary_statistics(excess_rets.GMGEX.to_frame('GMGEX'), annual_factor=12, provided_excess_returns=True, \n",
    "                            timeframes={'Inception-2011': ['1996', '2011'],\n",
    "                                        '2012-Present': ['2012', '2024'],\n",
    "                                        'Inception-Present': ['1996', '2024']},\n",
    "                            keep_columns=['Annualized Mean', 'Annualized Vol', 'Annualized Sharpe']).T.style.format(\"{:.2%}\")"
   ]
  },
  {
   "cell_type": "markdown",
   "id": "7d03a017",
   "metadata": {},
   "source": [
    "<span style=\"color:red;\">\n",
    "\n",
    "As we can see, the returns of the equity fund are considerably lower and show significantly greater volatility. Consequently, they have considerably worse risk-adjusted returns.\n",
    "\n",
    "</span>"
   ]
  },
  {
   "cell_type": "code",
   "execution_count": 74,
   "id": "a590ed8c",
   "metadata": {},
   "outputs": [
    {
     "data": {
      "text/html": [
       "<style type=\"text/css\">\n",
       "</style>\n",
       "<table id=\"T_a799b\">\n",
       "  <thead>\n",
       "    <tr>\n",
       "      <th class=\"blank level0\" >&nbsp;</th>\n",
       "      <th id=\"T_a799b_level0_col0\" class=\"col_heading level0 col0\" >GMWAX Inception-2011</th>\n",
       "      <th id=\"T_a799b_level0_col1\" class=\"col_heading level0 col1\" >GMWAX 2012-Present</th>\n",
       "      <th id=\"T_a799b_level0_col2\" class=\"col_heading level0 col2\" >GMWAX Inception-Present</th>\n",
       "    </tr>\n",
       "  </thead>\n",
       "  <tbody>\n",
       "    <tr>\n",
       "      <th id=\"T_a799b_level0_row0\" class=\"row_heading level0 row0\" >Min</th>\n",
       "      <td id=\"T_a799b_row0_col0\" class=\"data row0 col0\" >-14.92%</td>\n",
       "      <td id=\"T_a799b_row0_col1\" class=\"data row0 col1\" >-11.50%</td>\n",
       "      <td id=\"T_a799b_row0_col2\" class=\"data row0 col2\" >-14.92%</td>\n",
       "    </tr>\n",
       "    <tr>\n",
       "      <th id=\"T_a799b_level0_row1\" class=\"row_heading level0 row1\" >Historical VaR (5.00%)</th>\n",
       "      <td id=\"T_a799b_row1_col0\" class=\"data row1 col0\" >-4.40%</td>\n",
       "      <td id=\"T_a799b_row1_col1\" class=\"data row1 col1\" >-4.09%</td>\n",
       "      <td id=\"T_a799b_row1_col2\" class=\"data row1 col2\" >-4.14%</td>\n",
       "    </tr>\n",
       "    <tr>\n",
       "      <th id=\"T_a799b_level0_row2\" class=\"row_heading level0 row2\" >Annualized Historical VaR (5.00%)</th>\n",
       "      <td id=\"T_a799b_row2_col0\" class=\"data row2 col0\" >-15.24%</td>\n",
       "      <td id=\"T_a799b_row2_col1\" class=\"data row2 col1\" >-14.15%</td>\n",
       "      <td id=\"T_a799b_row2_col2\" class=\"data row2 col2\" >-14.33%</td>\n",
       "    </tr>\n",
       "    <tr>\n",
       "      <th id=\"T_a799b_level0_row3\" class=\"row_heading level0 row3\" >Historical CVaR (5.00%)</th>\n",
       "      <td id=\"T_a799b_row3_col0\" class=\"data row3 col0\" >-7.41%</td>\n",
       "      <td id=\"T_a799b_row3_col1\" class=\"data row3 col1\" >-5.89%</td>\n",
       "      <td id=\"T_a799b_row3_col2\" class=\"data row3 col2\" >-6.88%</td>\n",
       "    </tr>\n",
       "    <tr>\n",
       "      <th id=\"T_a799b_level0_row4\" class=\"row_heading level0 row4\" >Annualized Historical CVaR (5.00%)</th>\n",
       "      <td id=\"T_a799b_row4_col0\" class=\"data row4 col0\" >-25.66%</td>\n",
       "      <td id=\"T_a799b_row4_col1\" class=\"data row4 col1\" >-20.39%</td>\n",
       "      <td id=\"T_a799b_row4_col2\" class=\"data row4 col2\" >-23.85%</td>\n",
       "    </tr>\n",
       "    <tr>\n",
       "      <th id=\"T_a799b_level0_row5\" class=\"row_heading level0 row5\" >Max Drawdown</th>\n",
       "      <td id=\"T_a799b_row5_col0\" class=\"data row5 col0\" >-30.65%</td>\n",
       "      <td id=\"T_a799b_row5_col1\" class=\"data row5 col1\" >-22.56%</td>\n",
       "      <td id=\"T_a799b_row5_col2\" class=\"data row5 col2\" >-30.65%</td>\n",
       "    </tr>\n",
       "  </tbody>\n",
       "</table>\n"
      ],
      "text/plain": [
       "<pandas.io.formats.style.Styler at 0x153288e00>"
      ]
     },
     "metadata": {},
     "output_type": "display_data"
    },
    {
     "data": {
      "text/html": [
       "<style type=\"text/css\">\n",
       "</style>\n",
       "<table id=\"T_d2f99\">\n",
       "  <thead>\n",
       "    <tr>\n",
       "      <th class=\"blank level0\" >&nbsp;</th>\n",
       "      <th id=\"T_d2f99_level0_col0\" class=\"col_heading level0 col0\" >GMGEX Inception-2011</th>\n",
       "      <th id=\"T_d2f99_level0_col1\" class=\"col_heading level0 col1\" >GMGEX 2012-Present</th>\n",
       "      <th id=\"T_d2f99_level0_col2\" class=\"col_heading level0 col2\" >GMGEX Inception-Present</th>\n",
       "    </tr>\n",
       "  </thead>\n",
       "  <tbody>\n",
       "    <tr>\n",
       "      <th id=\"T_d2f99_level0_row0\" class=\"row_heading level0 row0\" >Min</th>\n",
       "      <td id=\"T_d2f99_row0_col0\" class=\"data row0 col0\" >-15.16%</td>\n",
       "      <td id=\"T_d2f99_row0_col1\" class=\"data row0 col1\" >-65.89%</td>\n",
       "      <td id=\"T_d2f99_row0_col2\" class=\"data row0 col2\" >-65.89%</td>\n",
       "    </tr>\n",
       "    <tr>\n",
       "      <th id=\"T_d2f99_level0_row1\" class=\"row_heading level0 row1\" >Historical VaR (5.00%)</th>\n",
       "      <td id=\"T_d2f99_row1_col0\" class=\"data row1 col0\" >-8.23%</td>\n",
       "      <td id=\"T_d2f99_row1_col1\" class=\"data row1 col1\" >-6.80%</td>\n",
       "      <td id=\"T_d2f99_row1_col2\" class=\"data row1 col2\" >-7.62%</td>\n",
       "    </tr>\n",
       "    <tr>\n",
       "      <th id=\"T_d2f99_level0_row2\" class=\"row_heading level0 row2\" >Annualized Historical VaR (5.00%)</th>\n",
       "      <td id=\"T_d2f99_row2_col0\" class=\"data row2 col0\" >-28.51%</td>\n",
       "      <td id=\"T_d2f99_row2_col1\" class=\"data row2 col1\" >-23.57%</td>\n",
       "      <td id=\"T_d2f99_row2_col2\" class=\"data row2 col2\" >-26.40%</td>\n",
       "    </tr>\n",
       "    <tr>\n",
       "      <th id=\"T_d2f99_level0_row3\" class=\"row_heading level0 row3\" >Historical CVaR (5.00%)</th>\n",
       "      <td id=\"T_d2f99_row3_col0\" class=\"data row3 col0\" >-9.86%</td>\n",
       "      <td id=\"T_d2f99_row3_col1\" class=\"data row3 col1\" >-16.27%</td>\n",
       "      <td id=\"T_d2f99_row3_col2\" class=\"data row3 col2\" >-13.07%</td>\n",
       "    </tr>\n",
       "    <tr>\n",
       "      <th id=\"T_d2f99_level0_row4\" class=\"row_heading level0 row4\" >Annualized Historical CVaR (5.00%)</th>\n",
       "      <td id=\"T_d2f99_row4_col0\" class=\"data row4 col0\" >-34.14%</td>\n",
       "      <td id=\"T_d2f99_row4_col1\" class=\"data row4 col1\" >-56.35%</td>\n",
       "      <td id=\"T_d2f99_row4_col2\" class=\"data row4 col2\" >-45.28%</td>\n",
       "    </tr>\n",
       "    <tr>\n",
       "      <th id=\"T_d2f99_level0_row5\" class=\"row_heading level0 row5\" >Max Drawdown</th>\n",
       "      <td id=\"T_d2f99_row5_col0\" class=\"data row5 col0\" >-56.40%</td>\n",
       "      <td id=\"T_d2f99_row5_col1\" class=\"data row5 col1\" >-73.83%</td>\n",
       "      <td id=\"T_d2f99_row5_col2\" class=\"data row5 col2\" >-76.81%</td>\n",
       "    </tr>\n",
       "  </tbody>\n",
       "</table>\n"
      ],
      "text/plain": [
       "<pandas.io.formats.style.Styler at 0x153254410>"
      ]
     },
     "execution_count": 74,
     "metadata": {},
     "output_type": "execute_result"
    }
   ],
   "source": [
    "# Risk Statistics\n",
    "display(macro_risk)\n",
    "pmh.calc_summary_statistics(excess_rets.GMGEX.to_frame('GMGEX'), annual_factor=12, provided_excess_returns=True,\n",
    "                            timeframes={'Inception-2011': ['1996', '2011'],\n",
    "                                        '2012-Present': ['2012', '2024'],\n",
    "                                        'Inception-Present': ['1996', '2024']},\n",
    "                            keep_columns=['Min', 'VaR', 'Drawdown']).T.style.format(\"{:.2%}\")"
   ]
  },
  {
   "cell_type": "markdown",
   "id": "96acfd71",
   "metadata": {},
   "source": [
    "<span style=\"color:red;\">\n",
    "\n",
    "The risk of the equity fund is considerably greater than the macro fund. Very notable is extreme difference in the drawdowns in each of the subsamples, especially the more recent subsample.\n",
    "\n",
    "</span>"
   ]
  },
  {
   "cell_type": "code",
   "execution_count": 75,
   "id": "2e23d8ae",
   "metadata": {},
   "outputs": [
    {
     "data": {
      "text/html": [
       "<div>\n",
       "<style scoped>\n",
       "    .dataframe tbody tr th:only-of-type {\n",
       "        vertical-align: middle;\n",
       "    }\n",
       "\n",
       "    .dataframe tbody tr th {\n",
       "        vertical-align: top;\n",
       "    }\n",
       "\n",
       "    .dataframe thead tr th {\n",
       "        text-align: left;\n",
       "    }\n",
       "</style>\n",
       "<table border=\"1\" class=\"dataframe\">\n",
       "  <thead>\n",
       "    <tr>\n",
       "      <th></th>\n",
       "      <th>GMWAX Inception-2011</th>\n",
       "      <th>GMWAX 2012-Present</th>\n",
       "      <th>GMWAX Inception-Present</th>\n",
       "    </tr>\n",
       "  </thead>\n",
       "  <tbody>\n",
       "    <tr>\n",
       "      <th>Annualized Alpha</th>\n",
       "      <td>0.0270</td>\n",
       "      <td>-0.0340</td>\n",
       "      <td>0.0006</td>\n",
       "    </tr>\n",
       "    <tr>\n",
       "      <th>R-Squared</th>\n",
       "      <td>0.6487</td>\n",
       "      <td>0.7487</td>\n",
       "      <td>0.6802</td>\n",
       "    </tr>\n",
       "    <tr>\n",
       "      <th>SPY Beta</th>\n",
       "      <td>0.5421</td>\n",
       "      <td>0.5818</td>\n",
       "      <td>0.5526</td>\n",
       "    </tr>\n",
       "  </tbody>\n",
       "</table>\n",
       "</div>"
      ],
      "text/plain": [
       "                 GMWAX Inception-2011 GMWAX 2012-Present  \\\n",
       "Annualized Alpha               0.0270            -0.0340   \n",
       "R-Squared                      0.6487             0.7487   \n",
       "SPY Beta                       0.5421             0.5818   \n",
       "\n",
       "                 GMWAX Inception-Present  \n",
       "Annualized Alpha                  0.0006  \n",
       "R-Squared                         0.6802  \n",
       "SPY Beta                          0.5526  "
      ]
     },
     "metadata": {},
     "output_type": "display_data"
    },
    {
     "name": "stdout",
     "output_type": "stream",
     "text": [
      "\"calc_regression\" assumes excess returns to calculate Information and Treynor Ratios\n"
     ]
    },
    {
     "data": {
      "text/html": [
       "<div>\n",
       "<style scoped>\n",
       "    .dataframe tbody tr th:only-of-type {\n",
       "        vertical-align: middle;\n",
       "    }\n",
       "\n",
       "    .dataframe tbody tr th {\n",
       "        vertical-align: top;\n",
       "    }\n",
       "\n",
       "    .dataframe thead tr th {\n",
       "        text-align: left;\n",
       "    }\n",
       "</style>\n",
       "<table border=\"1\" class=\"dataframe\">\n",
       "  <thead>\n",
       "    <tr>\n",
       "      <th></th>\n",
       "      <th>GMGEX Inception-2011</th>\n",
       "      <th>GMGEX 2012-Present</th>\n",
       "      <th>GMGEX Inception-Present</th>\n",
       "    </tr>\n",
       "  </thead>\n",
       "  <tbody>\n",
       "    <tr>\n",
       "      <th>Annualized Alpha</th>\n",
       "      <td>-0.0312</td>\n",
       "      <td>-0.1102</td>\n",
       "      <td>-0.0648</td>\n",
       "    </tr>\n",
       "    <tr>\n",
       "      <th>R-Squared</th>\n",
       "      <td>0.7259</td>\n",
       "      <td>0.2525</td>\n",
       "      <td>0.3979</td>\n",
       "    </tr>\n",
       "    <tr>\n",
       "      <th>SPY Beta</th>\n",
       "      <td>0.7642</td>\n",
       "      <td>0.8381</td>\n",
       "      <td>0.7867</td>\n",
       "    </tr>\n",
       "  </tbody>\n",
       "</table>\n",
       "</div>"
      ],
      "text/plain": [
       "                 GMGEX Inception-2011 GMGEX 2012-Present  \\\n",
       "Annualized Alpha              -0.0312            -0.1102   \n",
       "R-Squared                      0.7259             0.2525   \n",
       "SPY Beta                       0.7642             0.8381   \n",
       "\n",
       "                 GMGEX Inception-Present  \n",
       "Annualized Alpha                 -0.0648  \n",
       "R-Squared                         0.3979  \n",
       "SPY Beta                          0.7867  "
      ]
     },
     "execution_count": 75,
     "metadata": {},
     "output_type": "execute_result"
    }
   ],
   "source": [
    "# SPY Regression Statistics\n",
    "display(macro_regr)\n",
    "pmh.calc_regression(excess_rets['GMGEX'].to_frame('GMGEX'), excess_rets['SPY'].to_frame('SPY'), intercept=True, annual_factor=12,\n",
    "                    timeframes={'Inception-2011': ['1996', '2011'],\n",
    "                                '2012-Present': ['2012', '2024'],\n",
    "                                'Inception-Present': ['1996', '2024']},\n",
    "                    keep_columns=['R-Squared', 'Annualized Alpha', 'Beta']).T"
   ]
  },
  {
   "cell_type": "markdown",
   "id": "8a5a777d",
   "metadata": {},
   "source": [
    "<span style=\"color:red;\">\n",
    "\n",
    "The equity fund appears to provide consistently negative alpha across both sub-sample and across the full sample. However, it is also a higher beta strategy than the macro fund. Interestingly, the excess returns of the equity fund are \"less explained\" by SPY than the excess returns of the macro fund.\n",
    "\n",
    "</span>"
   ]
  },
  {
   "cell_type": "markdown",
   "id": "9620aa66",
   "metadata": {},
   "source": [
    "# 3 Forecast Regressions"
   ]
  },
  {
   "cell_type": "markdown",
   "id": "d19525db",
   "metadata": {},
   "source": [
    "This section utilizes data in the file, gmo data.xlsx."
   ]
  },
  {
   "cell_type": "markdown",
   "id": "2c7d9a03",
   "metadata": {},
   "source": [
    "## 1. Consider the lagged regression, where the regressor, ($X$,) is a period behind the target, ($r^{SPY}$ )."
   ]
  },
  {
   "cell_type": "markdown",
   "id": "13025acf",
   "metadata": {},
   "source": [
    "$r_t^{SPY} = α^{SPY,X} + (β^{SPY,X})'X_{t−1} + ϵ_t^{SPY,X}$"
   ]
  },
  {
   "cell_type": "markdown",
   "id": "25cdbfec",
   "metadata": {},
   "source": [
    "Estimate (1) and report the $R^2$, as well as the OLS estimates for α and β. Do this for:"
   ]
  },
  {
   "cell_type": "markdown",
   "id": "edb21376",
   "metadata": {},
   "source": [
    "- X as a single regressor, the dividend-price ratio.\n",
    "- X as a single regressor, the earnings-price ratio.\n",
    "- X as three regressors, the dividend-price ratio, the earnings-price ratio, and the 10-year yield."
   ]
  },
  {
   "cell_type": "markdown",
   "id": "34348a9b",
   "metadata": {},
   "source": [
    "For each, report the r-squared."
   ]
  },
  {
   "cell_type": "code",
   "execution_count": 76,
   "id": "8685fa7c",
   "metadata": {},
   "outputs": [
    {
     "data": {
      "text/html": [
       "<style type=\"text/css\">\n",
       "</style>\n",
       "<table id=\"T_f4196\">\n",
       "  <thead>\n",
       "    <tr>\n",
       "      <th class=\"blank level0\" >&nbsp;</th>\n",
       "      <th id=\"T_f4196_level0_col0\" class=\"col_heading level0 col0\" >R-Squared</th>\n",
       "    </tr>\n",
       "  </thead>\n",
       "  <tbody>\n",
       "    <tr>\n",
       "      <th id=\"T_f4196_level0_row0\" class=\"row_heading level0 row0\" >SPY DVD YLD</th>\n",
       "      <td id=\"T_f4196_row0_col0\" class=\"data row0 col0\" >1.40%</td>\n",
       "    </tr>\n",
       "    <tr>\n",
       "      <th id=\"T_f4196_level0_row1\" class=\"row_heading level0 row1\" >SPY P/E</th>\n",
       "      <td id=\"T_f4196_row1_col0\" class=\"data row1 col0\" >0.60%</td>\n",
       "    </tr>\n",
       "    <tr>\n",
       "      <th id=\"T_f4196_level0_row2\" class=\"row_heading level0 row2\" >Multiple</th>\n",
       "      <td id=\"T_f4196_row2_col0\" class=\"data row2 col0\" >1.65%</td>\n",
       "    </tr>\n",
       "  </tbody>\n",
       "</table>\n"
      ],
      "text/plain": [
       "<pandas.io.formats.style.Styler at 0x14f6ef320>"
      ]
     },
     "execution_count": 76,
     "metadata": {},
     "output_type": "execute_result"
    }
   ],
   "source": [
    "div_price = pmh.calc_regression(excess_rets['SPY'].to_frame('SPY DVD YLD'), signals['SPX DVD YLD'].shift(1).to_frame('SPX'), \n",
    "                                intercept=True, annual_factor=12, warnings=False, keep_columns=['R-Squared'])\n",
    "ear_price = pmh.calc_regression(excess_rets['SPY'].to_frame('SPY P/E'), signals['SPX P/E'].shift(1).to_frame('SPX'), \n",
    "                                intercept=True, annual_factor=12, warnings=False, keep_columns=['R-Squared'])\n",
    "multi_reg = pmh.calc_regression(excess_rets['SPY'].to_frame('Multiple'), signals.shift(1), \n",
    "                                intercept=True, annual_factor=12, warnings=False, keep_columns=['R-Squared'])\n",
    "\n",
    "pd.concat([div_price, ear_price, multi_reg], axis=0).style.format(\"{:.2%}\")"
   ]
  },
  {
   "cell_type": "markdown",
   "id": "2016310a",
   "metadata": {},
   "source": [
    "## 2. For each of the three regressions, let’s try to utilize the resulting forecast in a trading strategy."
   ]
  },
  {
   "cell_type": "markdown",
   "id": "dae82248",
   "metadata": {},
   "source": [
    "- Build the forecasted SPY returns: $r̂_{t+1}^{SPY}$ . Note that this denotes the forecast made using $X_t$ to forecast the (t+ 1) return."
   ]
  },
  {
   "cell_type": "markdown",
   "id": "1ebf0948",
   "metadata": {},
   "source": [
    "- Set the scale of the investment in SPY equal to 100 times the forecasted value:"
   ]
  },
  {
   "cell_type": "markdown",
   "id": "ff94062f",
   "metadata": {},
   "source": [
    "$w_t = 100 r̂_{t+1}^{SPY}$"
   ]
  },
  {
   "cell_type": "code",
   "execution_count": 77,
   "id": "90131a04",
   "metadata": {},
   "outputs": [
    {
     "name": "stdout",
     "output_type": "stream",
     "text": [
      "Regression assumes 'annual_factor' equals to 12 since it was not provided\n",
      "Regression assumes 'annual_factor' equals to 12 since it was not provided\n",
      "Regression assumes 'annual_factor' equals to 12 since it was not provided\n"
     ]
    },
    {
     "data": {
      "text/html": [
       "<div>\n",
       "<style scoped>\n",
       "    .dataframe tbody tr th:only-of-type {\n",
       "        vertical-align: middle;\n",
       "    }\n",
       "\n",
       "    .dataframe tbody tr th {\n",
       "        vertical-align: top;\n",
       "    }\n",
       "\n",
       "    .dataframe thead th {\n",
       "        text-align: right;\n",
       "    }\n",
       "</style>\n",
       "<table border=\"1\" class=\"dataframe\">\n",
       "  <thead>\n",
       "    <tr style=\"text-align: right;\">\n",
       "      <th></th>\n",
       "      <th>div_price</th>\n",
       "      <th>ear_price</th>\n",
       "      <th>multi_reg</th>\n",
       "    </tr>\n",
       "    <tr>\n",
       "      <th>date</th>\n",
       "      <th></th>\n",
       "      <th></th>\n",
       "      <th></th>\n",
       "    </tr>\n",
       "  </thead>\n",
       "  <tbody>\n",
       "    <tr>\n",
       "      <th>1997-01-31</th>\n",
       "      <td>0.8785</td>\n",
       "      <td>0.6878</td>\n",
       "      <td>0.4265</td>\n",
       "    </tr>\n",
       "    <tr>\n",
       "      <th>1997-02-28</th>\n",
       "      <td>0.7208</td>\n",
       "      <td>0.5916</td>\n",
       "      <td>0.2925</td>\n",
       "    </tr>\n",
       "    <tr>\n",
       "      <th>1997-03-31</th>\n",
       "      <td>0.7270</td>\n",
       "      <td>0.5815</td>\n",
       "      <td>0.2926</td>\n",
       "    </tr>\n",
       "    <tr>\n",
       "      <th>1997-04-30</th>\n",
       "      <td>0.8490</td>\n",
       "      <td>0.7860</td>\n",
       "      <td>0.2949</td>\n",
       "    </tr>\n",
       "    <tr>\n",
       "      <th>1997-05-30</th>\n",
       "      <td>0.7175</td>\n",
       "      <td>0.6947</td>\n",
       "      <td>0.2243</td>\n",
       "    </tr>\n",
       "    <tr>\n",
       "      <th>...</th>\n",
       "      <td>...</td>\n",
       "      <td>...</td>\n",
       "      <td>...</td>\n",
       "    </tr>\n",
       "    <tr>\n",
       "      <th>2024-06-28</th>\n",
       "      <td>0.0847</td>\n",
       "      <td>0.2897</td>\n",
       "      <td>0.0766</td>\n",
       "    </tr>\n",
       "    <tr>\n",
       "      <th>2024-07-31</th>\n",
       "      <td>0.0372</td>\n",
       "      <td>0.2181</td>\n",
       "      <td>0.0682</td>\n",
       "    </tr>\n",
       "    <tr>\n",
       "      <th>2024-08-30</th>\n",
       "      <td>0.0285</td>\n",
       "      <td>0.1974</td>\n",
       "      <td>0.1218</td>\n",
       "    </tr>\n",
       "    <tr>\n",
       "      <th>2024-09-30</th>\n",
       "      <td>0.0001</td>\n",
       "      <td>0.2158</td>\n",
       "      <td>0.1084</td>\n",
       "    </tr>\n",
       "    <tr>\n",
       "      <th>2024-10-31</th>\n",
       "      <td>-0.0264</td>\n",
       "      <td>0.1716</td>\n",
       "      <td>0.1148</td>\n",
       "    </tr>\n",
       "  </tbody>\n",
       "</table>\n",
       "<p>334 rows × 3 columns</p>\n",
       "</div>"
      ],
      "text/plain": [
       "            div_price  ear_price  multi_reg\n",
       "date                                       \n",
       "1997-01-31     0.8785     0.6878     0.4265\n",
       "1997-02-28     0.7208     0.5916     0.2925\n",
       "1997-03-31     0.7270     0.5815     0.2926\n",
       "1997-04-30     0.8490     0.7860     0.2949\n",
       "1997-05-30     0.7175     0.6947     0.2243\n",
       "...               ...        ...        ...\n",
       "2024-06-28     0.0847     0.2897     0.0766\n",
       "2024-07-31     0.0372     0.2181     0.0682\n",
       "2024-08-30     0.0285     0.1974     0.1218\n",
       "2024-09-30     0.0001     0.2158     0.1084\n",
       "2024-10-31    -0.0264     0.1716     0.1148\n",
       "\n",
       "[334 rows x 3 columns]"
      ]
     },
     "execution_count": 77,
     "metadata": {},
     "output_type": "execute_result"
    }
   ],
   "source": [
    "div_price = pmh.calc_regression(excess_rets['SPY'].to_frame('SPY DVD YLD'), signals['SPX DVD YLD'].shift(1).to_frame('SPX'), \n",
    "                                intercept=True, return_model=True, warnings=False)\n",
    "ear_price = pmh.calc_regression(excess_rets['SPY'].to_frame('SPY P/E'), signals['SPX P/E'].shift(1).to_frame('SPX'), \n",
    "                                intercept=True, return_model=True, warnings=False)\n",
    "multi_reg = pmh.calc_regression(excess_rets['SPY'].to_frame('Multiple'), signals.shift(1), \n",
    "                                intercept=True, return_model=True, warnings=False)\n",
    "\n",
    "strats = pd.DataFrame({'div_price': (excess_rets['SPY'] - div_price.resid).dropna() * 100,\n",
    "                       'ear_price': (excess_rets['SPY'] - ear_price.resid).dropna() * 100,\n",
    "                       'multi_reg': (excess_rets['SPY'] - multi_reg.resid).dropna() * 100})\n",
    "strats"
   ]
  },
  {
   "cell_type": "markdown",
   "id": "91aa24c8",
   "metadata": {},
   "source": [
    "We are not taking this scaling too seriously. We just want the strategy to go bigger in periods where the forecast is high and to withdraw in periods where the forecast is low, or even negative."
   ]
  },
  {
   "cell_type": "markdown",
   "id": "4edd2758",
   "metadata": {},
   "source": [
    "- Calculate the return on this strategy:"
   ]
  },
  {
   "cell_type": "markdown",
   "id": "6e757068",
   "metadata": {},
   "source": [
    "$r_{t+1}^x = w_t r_{t+1}^{SPY}$"
   ]
  },
  {
   "cell_type": "code",
   "execution_count": 78,
   "id": "f598b7d4",
   "metadata": {},
   "outputs": [
    {
     "data": {
      "text/html": [
       "<div>\n",
       "<style scoped>\n",
       "    .dataframe tbody tr th:only-of-type {\n",
       "        vertical-align: middle;\n",
       "    }\n",
       "\n",
       "    .dataframe tbody tr th {\n",
       "        vertical-align: top;\n",
       "    }\n",
       "\n",
       "    .dataframe thead th {\n",
       "        text-align: right;\n",
       "    }\n",
       "</style>\n",
       "<table border=\"1\" class=\"dataframe\">\n",
       "  <thead>\n",
       "    <tr style=\"text-align: right;\">\n",
       "      <th></th>\n",
       "      <th>div_price</th>\n",
       "      <th>ear_price</th>\n",
       "      <th>multi_reg</th>\n",
       "    </tr>\n",
       "    <tr>\n",
       "      <th>date</th>\n",
       "      <th></th>\n",
       "      <th></th>\n",
       "      <th></th>\n",
       "    </tr>\n",
       "  </thead>\n",
       "  <tbody>\n",
       "    <tr>\n",
       "      <th>1997-01-31</th>\n",
       "      <td>0.0505</td>\n",
       "      <td>0.0395</td>\n",
       "      <td>0.0245</td>\n",
       "    </tr>\n",
       "    <tr>\n",
       "      <th>1997-02-28</th>\n",
       "      <td>0.0038</td>\n",
       "      <td>0.0031</td>\n",
       "      <td>0.0015</td>\n",
       "    </tr>\n",
       "    <tr>\n",
       "      <th>1997-03-31</th>\n",
       "      <td>-0.0365</td>\n",
       "      <td>-0.0292</td>\n",
       "      <td>-0.0147</td>\n",
       "    </tr>\n",
       "    <tr>\n",
       "      <th>1997-04-30</th>\n",
       "      <td>0.0509</td>\n",
       "      <td>0.0472</td>\n",
       "      <td>0.0177</td>\n",
       "    </tr>\n",
       "    <tr>\n",
       "      <th>1997-05-30</th>\n",
       "      <td>0.0424</td>\n",
       "      <td>0.0411</td>\n",
       "      <td>0.0133</td>\n",
       "    </tr>\n",
       "    <tr>\n",
       "      <th>...</th>\n",
       "      <td>...</td>\n",
       "      <td>...</td>\n",
       "      <td>...</td>\n",
       "    </tr>\n",
       "    <tr>\n",
       "      <th>2024-06-28</th>\n",
       "      <td>0.0026</td>\n",
       "      <td>0.0089</td>\n",
       "      <td>0.0024</td>\n",
       "    </tr>\n",
       "    <tr>\n",
       "      <th>2024-07-31</th>\n",
       "      <td>0.0003</td>\n",
       "      <td>0.0017</td>\n",
       "      <td>0.0005</td>\n",
       "    </tr>\n",
       "    <tr>\n",
       "      <th>2024-08-30</th>\n",
       "      <td>0.0005</td>\n",
       "      <td>0.0038</td>\n",
       "      <td>0.0023</td>\n",
       "    </tr>\n",
       "    <tr>\n",
       "      <th>2024-09-30</th>\n",
       "      <td>0.0000</td>\n",
       "      <td>0.0037</td>\n",
       "      <td>0.0019</td>\n",
       "    </tr>\n",
       "    <tr>\n",
       "      <th>2024-10-31</th>\n",
       "      <td>0.0003</td>\n",
       "      <td>-0.0022</td>\n",
       "      <td>-0.0015</td>\n",
       "    </tr>\n",
       "  </tbody>\n",
       "</table>\n",
       "<p>334 rows × 3 columns</p>\n",
       "</div>"
      ],
      "text/plain": [
       "            div_price  ear_price  multi_reg\n",
       "date                                       \n",
       "1997-01-31     0.0505     0.0395     0.0245\n",
       "1997-02-28     0.0038     0.0031     0.0015\n",
       "1997-03-31    -0.0365    -0.0292    -0.0147\n",
       "1997-04-30     0.0509     0.0472     0.0177\n",
       "1997-05-30     0.0424     0.0411     0.0133\n",
       "...               ...        ...        ...\n",
       "2024-06-28     0.0026     0.0089     0.0024\n",
       "2024-07-31     0.0003     0.0017     0.0005\n",
       "2024-08-30     0.0005     0.0038     0.0023\n",
       "2024-09-30     0.0000     0.0037     0.0019\n",
       "2024-10-31     0.0003    -0.0022    -0.0015\n",
       "\n",
       "[334 rows x 3 columns]"
      ]
     },
     "execution_count": 78,
     "metadata": {},
     "output_type": "execute_result"
    }
   ],
   "source": [
    "strats = strats.multiply(excess_rets['SPY'], axis=0).dropna()\n",
    "strats"
   ]
  },
  {
   "cell_type": "markdown",
   "id": "19b7d9b0",
   "metadata": {},
   "source": [
    "You should now have the trading strategy returns, $r^x$ for each of the forecasts. For each strategy, estimate:"
   ]
  },
  {
   "cell_type": "markdown",
   "id": "fe213ba0",
   "metadata": {},
   "source": [
    "- mean, volatility, Sharpe,\n",
    "- max-drawdown\n",
    "- market alpha\n",
    "- market beta\n",
    "- market Information ratio"
   ]
  },
  {
   "cell_type": "code",
   "execution_count": 79,
   "id": "130be174",
   "metadata": {},
   "outputs": [
    {
     "data": {
      "text/html": [
       "<style type=\"text/css\">\n",
       "</style>\n",
       "<table id=\"T_c43d9\">\n",
       "  <thead>\n",
       "    <tr>\n",
       "      <th class=\"blank level0\" >&nbsp;</th>\n",
       "      <th id=\"T_c43d9_level0_col0\" class=\"col_heading level0 col0\" >div_price</th>\n",
       "      <th id=\"T_c43d9_level0_col1\" class=\"col_heading level0 col1\" >ear_price</th>\n",
       "      <th id=\"T_c43d9_level0_col2\" class=\"col_heading level0 col2\" >multi_reg</th>\n",
       "    </tr>\n",
       "  </thead>\n",
       "  <tbody>\n",
       "    <tr>\n",
       "      <th id=\"T_c43d9_level0_row0\" class=\"row_heading level0 row0\" >Annualized Mean</th>\n",
       "      <td id=\"T_c43d9_row0_col0\" class=\"data row0 col0\" >8.91%</td>\n",
       "      <td id=\"T_c43d9_row0_col1\" class=\"data row0 col1\" >7.00%</td>\n",
       "      <td id=\"T_c43d9_row0_col2\" class=\"data row0 col2\" >9.49%</td>\n",
       "    </tr>\n",
       "    <tr>\n",
       "      <th id=\"T_c43d9_level0_row1\" class=\"row_heading level0 row1\" >Annualized Vol</th>\n",
       "      <td id=\"T_c43d9_row1_col0\" class=\"data row1 col0\" >16.54%</td>\n",
       "      <td id=\"T_c43d9_row1_col1\" class=\"data row1 col1\" >12.33%</td>\n",
       "      <td id=\"T_c43d9_row1_col2\" class=\"data row1 col2\" >16.53%</td>\n",
       "    </tr>\n",
       "    <tr>\n",
       "      <th id=\"T_c43d9_level0_row2\" class=\"row_heading level0 row2\" >Annualized Sharpe</th>\n",
       "      <td id=\"T_c43d9_row2_col0\" class=\"data row2 col0\" >53.88%</td>\n",
       "      <td id=\"T_c43d9_row2_col1\" class=\"data row2 col1\" >56.79%</td>\n",
       "      <td id=\"T_c43d9_row2_col2\" class=\"data row2 col2\" >57.39%</td>\n",
       "    </tr>\n",
       "  </tbody>\n",
       "</table>\n"
      ],
      "text/plain": [
       "<pandas.io.formats.style.Styler at 0x153289400>"
      ]
     },
     "execution_count": 79,
     "metadata": {},
     "output_type": "execute_result"
    }
   ],
   "source": [
    "# Return Statistics\n",
    "pmh.calc_summary_statistics(strats, annual_factor=12, provided_excess_returns=True,\n",
    "                            keep_columns=['Annualized Mean', 'Annualized Vol', 'Annualized Sharpe']).T.style.format(\"{:.2%}\")"
   ]
  },
  {
   "cell_type": "code",
   "execution_count": 80,
   "id": "621cf71b",
   "metadata": {},
   "outputs": [
    {
     "data": {
      "text/html": [
       "<style type=\"text/css\">\n",
       "</style>\n",
       "<table id=\"T_74eda\">\n",
       "  <thead>\n",
       "    <tr>\n",
       "      <th class=\"blank level0\" >&nbsp;</th>\n",
       "      <th id=\"T_74eda_level0_col0\" class=\"col_heading level0 col0\" >div_price</th>\n",
       "      <th id=\"T_74eda_level0_col1\" class=\"col_heading level0 col1\" >ear_price</th>\n",
       "      <th id=\"T_74eda_level0_col2\" class=\"col_heading level0 col2\" >multi_reg</th>\n",
       "    </tr>\n",
       "  </thead>\n",
       "  <tbody>\n",
       "    <tr>\n",
       "      <th id=\"T_74eda_level0_row0\" class=\"row_heading level0 row0\" >Min</th>\n",
       "      <td id=\"T_74eda_row0_col0\" class=\"data row0 col0\" >-29.92%</td>\n",
       "      <td id=\"T_74eda_row0_col1\" class=\"data row0 col1\" >-17.51%</td>\n",
       "      <td id=\"T_74eda_row0_col2\" class=\"data row0 col2\" >-27.75%</td>\n",
       "    </tr>\n",
       "    <tr>\n",
       "      <th id=\"T_74eda_level0_row1\" class=\"row_heading level0 row1\" >Historical VaR (5.00%)</th>\n",
       "      <td id=\"T_74eda_row1_col0\" class=\"data row1 col0\" >-4.92%</td>\n",
       "      <td id=\"T_74eda_row1_col1\" class=\"data row1 col1\" >-4.94%</td>\n",
       "      <td id=\"T_74eda_row1_col2\" class=\"data row1 col2\" >-4.75%</td>\n",
       "    </tr>\n",
       "    <tr>\n",
       "      <th id=\"T_74eda_level0_row2\" class=\"row_heading level0 row2\" >Annualized Historical VaR (5.00%)</th>\n",
       "      <td id=\"T_74eda_row2_col0\" class=\"data row2 col0\" >-17.04%</td>\n",
       "      <td id=\"T_74eda_row2_col1\" class=\"data row2 col1\" >-17.10%</td>\n",
       "      <td id=\"T_74eda_row2_col2\" class=\"data row2 col2\" >-16.47%</td>\n",
       "    </tr>\n",
       "    <tr>\n",
       "      <th id=\"T_74eda_level0_row3\" class=\"row_heading level0 row3\" >Historical CVaR (5.00%)</th>\n",
       "      <td id=\"T_74eda_row3_col0\" class=\"data row3 col0\" >-10.70%</td>\n",
       "      <td id=\"T_74eda_row3_col1\" class=\"data row3 col1\" >-8.40%</td>\n",
       "      <td id=\"T_74eda_row3_col2\" class=\"data row3 col2\" >-10.63%</td>\n",
       "    </tr>\n",
       "    <tr>\n",
       "      <th id=\"T_74eda_level0_row4\" class=\"row_heading level0 row4\" >Annualized Historical CVaR (5.00%)</th>\n",
       "      <td id=\"T_74eda_row4_col0\" class=\"data row4 col0\" >-37.08%</td>\n",
       "      <td id=\"T_74eda_row4_col1\" class=\"data row4 col1\" >-29.11%</td>\n",
       "      <td id=\"T_74eda_row4_col2\" class=\"data row4 col2\" >-36.82%</td>\n",
       "    </tr>\n",
       "    <tr>\n",
       "      <th id=\"T_74eda_level0_row5\" class=\"row_heading level0 row5\" >Max Drawdown</th>\n",
       "      <td id=\"T_74eda_row5_col0\" class=\"data row5 col0\" >-72.44%</td>\n",
       "      <td id=\"T_74eda_row5_col1\" class=\"data row5 col1\" >-55.90%</td>\n",
       "      <td id=\"T_74eda_row5_col2\" class=\"data row5 col2\" >-67.85%</td>\n",
       "    </tr>\n",
       "  </tbody>\n",
       "</table>\n"
      ],
      "text/plain": [
       "<pandas.io.formats.style.Styler at 0x153190aa0>"
      ]
     },
     "execution_count": 80,
     "metadata": {},
     "output_type": "execute_result"
    }
   ],
   "source": [
    "# Risk Statistics\n",
    "pmh.calc_summary_statistics(strats, annual_factor=12, provided_excess_returns=True,\n",
    "                            keep_columns=['Min', 'VaR', 'Drawdown']).T.style.format(\"{:.2%}\")"
   ]
  },
  {
   "cell_type": "code",
   "execution_count": 81,
   "id": "61700a94",
   "metadata": {},
   "outputs": [
    {
     "name": "stdout",
     "output_type": "stream",
     "text": [
      "\"calc_regression\" assumes excess returns to calculate Information and Treynor Ratios\n",
      "\"div_price\" Required to reset indexes to make regression work. Try passing \"y\" and \"X\" as pd.DataFrame\n"
     ]
    },
    {
     "data": {
      "text/html": [
       "<div>\n",
       "<style scoped>\n",
       "    .dataframe tbody tr th:only-of-type {\n",
       "        vertical-align: middle;\n",
       "    }\n",
       "\n",
       "    .dataframe tbody tr th {\n",
       "        vertical-align: top;\n",
       "    }\n",
       "\n",
       "    .dataframe thead th {\n",
       "        text-align: right;\n",
       "    }\n",
       "</style>\n",
       "<table border=\"1\" class=\"dataframe\">\n",
       "  <thead>\n",
       "    <tr style=\"text-align: right;\">\n",
       "      <th></th>\n",
       "      <th>div_price</th>\n",
       "      <th>ear_price</th>\n",
       "      <th>multi_reg</th>\n",
       "    </tr>\n",
       "  </thead>\n",
       "  <tbody>\n",
       "    <tr>\n",
       "      <th>Annualized Alpha</th>\n",
       "      <td>0.0836</td>\n",
       "      <td>0.0683</td>\n",
       "      <td>0.0902</td>\n",
       "    </tr>\n",
       "    <tr>\n",
       "      <th>SPY Beta</th>\n",
       "      <td>0.0676</td>\n",
       "      <td>0.0213</td>\n",
       "      <td>0.0569</td>\n",
       "    </tr>\n",
       "    <tr>\n",
       "      <th>Annualized Information Ratio</th>\n",
       "      <td>0.5066</td>\n",
       "      <td>0.5541</td>\n",
       "      <td>0.5468</td>\n",
       "    </tr>\n",
       "  </tbody>\n",
       "</table>\n",
       "</div>"
      ],
      "text/plain": [
       "                              div_price  ear_price  multi_reg\n",
       "Annualized Alpha                 0.0836     0.0683     0.0902\n",
       "SPY Beta                         0.0676     0.0213     0.0569\n",
       "Annualized Information Ratio     0.5066     0.5541     0.5468"
      ]
     },
     "execution_count": 81,
     "metadata": {},
     "output_type": "execute_result"
    }
   ],
   "source": [
    "# Market Regression Stats\n",
    "pmh.calc_iterative_regression(strats, excess_rets['SPY'].iloc[:-1].to_frame('SPY'), intercept=True, annual_factor=12,\n",
    "                    keep_columns=['Annualized Alpha', 'Beta', 'Annualized Information']).T"
   ]
  },
  {
   "cell_type": "markdown",
   "id": "355898f4",
   "metadata": {},
   "source": [
    "## 3. GMO believes a risk premium is compensation for a security’s tendency to lose money at “bad times”. Let’s consider risk characteristics."
   ]
  },
  {
   "cell_type": "markdown",
   "id": "961bd6c7",
   "metadata": {},
   "source": [
    "- (a) For both strategies, the market, and GMO, calculate the monthly VaR for π = .05. Just use the quantile of the historic data for this VaR calculation.\n",
    "- (b) The GMO case mentions that stocks under-performed short-term bonds from 2000-2011. Does the dynamic portfolio above under-perform the risk-free rate over this time?\n",
    "- (c) Based on the regression estimates, in how many periods do we estimate a negative risk premium?\n",
    "- (d) Do you believe the dynamic strategy takes on extra risk?"
   ]
  },
  {
   "cell_type": "code",
   "execution_count": 82,
   "id": "990f3c5d",
   "metadata": {},
   "outputs": [
    {
     "data": {
      "text/html": [
       "<style type=\"text/css\">\n",
       "</style>\n",
       "<table id=\"T_9a0b9\">\n",
       "  <thead>\n",
       "    <tr>\n",
       "      <th class=\"blank level0\" >&nbsp;</th>\n",
       "      <th id=\"T_9a0b9_level0_col0\" class=\"col_heading level0 col0\" >Annualized Historical VaR (5.00%)</th>\n",
       "    </tr>\n",
       "  </thead>\n",
       "  <tbody>\n",
       "    <tr>\n",
       "      <th id=\"T_9a0b9_level0_row0\" class=\"row_heading level0 row0\" >div_price</th>\n",
       "      <td id=\"T_9a0b9_row0_col0\" class=\"data row0 col0\" >-17.04%</td>\n",
       "    </tr>\n",
       "    <tr>\n",
       "      <th id=\"T_9a0b9_level0_row1\" class=\"row_heading level0 row1\" >ear_price</th>\n",
       "      <td id=\"T_9a0b9_row1_col0\" class=\"data row1 col0\" >-17.10%</td>\n",
       "    </tr>\n",
       "    <tr>\n",
       "      <th id=\"T_9a0b9_level0_row2\" class=\"row_heading level0 row2\" >multi_reg</th>\n",
       "      <td id=\"T_9a0b9_row2_col0\" class=\"data row2 col0\" >-16.47%</td>\n",
       "    </tr>\n",
       "    <tr>\n",
       "      <th id=\"T_9a0b9_level0_row3\" class=\"row_heading level0 row3\" >SPY</th>\n",
       "      <td id=\"T_9a0b9_row3_col0\" class=\"data row3 col0\" >-27.60%</td>\n",
       "    </tr>\n",
       "    <tr>\n",
       "      <th id=\"T_9a0b9_level0_row4\" class=\"row_heading level0 row4\" >GMWAX</th>\n",
       "      <td id=\"T_9a0b9_row4_col0\" class=\"data row4 col0\" >-14.34%</td>\n",
       "    </tr>\n",
       "    <tr>\n",
       "      <th id=\"T_9a0b9_level0_row5\" class=\"row_heading level0 row5\" >GMGEX</th>\n",
       "      <td id=\"T_9a0b9_row5_col0\" class=\"data row5 col0\" >-26.43%</td>\n",
       "    </tr>\n",
       "  </tbody>\n",
       "</table>\n"
      ],
      "text/plain": [
       "<pandas.io.formats.style.Styler at 0x14f9c8aa0>"
      ]
     },
     "execution_count": 82,
     "metadata": {},
     "output_type": "execute_result"
    }
   ],
   "source": [
    "# (a) For both strategies, the market, and GMO, calculate the monthly VaR for π = .05. \n",
    "# Just use the quantile of the historic data for this VaR calculation.\n",
    "compare_df = pd.concat([strats, excess_rets], axis=1).dropna()\n",
    "pmh.calc_summary_statistics(compare_df, annual_factor=12, provided_excess_returns=True, \n",
    "                            keep_columns=['Annualized Historical VaR']).style.format(\"{:.2%}\")"
   ]
  },
  {
   "cell_type": "code",
   "execution_count": 83,
   "id": "92facd80",
   "metadata": {},
   "outputs": [
    {
     "data": {
      "image/png": "[encoded data removed]",
      "text/plain": [
       "<Figure size 700x500 with 1 Axes>"
      ]
     },
     "metadata": {},
     "output_type": "display_data"
    }
   ],
   "source": [
    "# (b) The GMO case mentions that stocks under-performed short-term bonds from 2000-2011. \n",
    "# Does the dynamic portfolio above under-perform the risk-free rate over this time?\n",
    "pmh.calc_cummulative_returns(pd.concat([strats['2000':'2011'], \n",
    "                                        rf_rets['2000':'2011'], \n",
    "                                        excess_rets.loc['2000':'2011', ['SPY', 'GMWAX']]], axis=1))\n"
   ]
  },
  {
   "cell_type": "markdown",
   "id": "6d4a6aac",
   "metadata": {},
   "source": [
    "<span style=\"color:red;\">\n",
    "\n",
    "It appears that the dynamic portfolio derived from the regression using the SPX P/E only as the regressor does underperform the risk-free rate over the period from 2000-2011. However, it does not underperform as much as stocks did (as represented by the SPY index).\n",
    "\n",
    "</span>"
   ]
  },
  {
   "cell_type": "code",
   "execution_count": 84,
   "id": "c4466fc9",
   "metadata": {},
   "outputs": [
    {
     "data": {
      "text/html": [
       "<style type=\"text/css\">\n",
       "</style>\n",
       "<table id=\"T_d6d1a\">\n",
       "  <thead>\n",
       "    <tr>\n",
       "      <th class=\"blank\" >&nbsp;</th>\n",
       "      <th class=\"blank level0\" >&nbsp;</th>\n",
       "      <th id=\"T_d6d1a_level0_col0\" class=\"col_heading level0 col0\" >% Negative Risk Premium Periods</th>\n",
       "    </tr>\n",
       "  </thead>\n",
       "  <tbody>\n",
       "    <tr>\n",
       "      <th id=\"T_d6d1a_level0_row0\" class=\"row_heading level0 row0\" rowspan=\"3\">Full Sample</th>\n",
       "      <th id=\"T_d6d1a_level1_row0\" class=\"row_heading level1 row0\" >div_price</th>\n",
       "      <td id=\"T_d6d1a_row0_col0\" class=\"data row0 col0\" >33.83%</td>\n",
       "    </tr>\n",
       "    <tr>\n",
       "      <th id=\"T_d6d1a_level1_row1\" class=\"row_heading level1 row1\" >ear_price</th>\n",
       "      <td id=\"T_d6d1a_row1_col0\" class=\"data row1 col0\" >37.13%</td>\n",
       "    </tr>\n",
       "    <tr>\n",
       "      <th id=\"T_d6d1a_level1_row2\" class=\"row_heading level1 row2\" >multi_reg</th>\n",
       "      <td id=\"T_d6d1a_row2_col0\" class=\"data row2 col0\" >33.83%</td>\n",
       "    </tr>\n",
       "    <tr>\n",
       "      <th id=\"T_d6d1a_level0_row3\" class=\"row_heading level0 row3\" rowspan=\"3\">2000-2011</th>\n",
       "      <th id=\"T_d6d1a_level1_row3\" class=\"row_heading level1 row3\" >div_price</th>\n",
       "      <td id=\"T_d6d1a_row3_col0\" class=\"data row3 col0\" >39.58%</td>\n",
       "    </tr>\n",
       "    <tr>\n",
       "      <th id=\"T_d6d1a_level1_row4\" class=\"row_heading level1 row4\" >ear_price</th>\n",
       "      <td id=\"T_d6d1a_row4_col0\" class=\"data row4 col0\" >43.06%</td>\n",
       "    </tr>\n",
       "    <tr>\n",
       "      <th id=\"T_d6d1a_level1_row5\" class=\"row_heading level1 row5\" >multi_reg</th>\n",
       "      <td id=\"T_d6d1a_row5_col0\" class=\"data row5 col0\" >38.89%</td>\n",
       "    </tr>\n",
       "  </tbody>\n",
       "</table>\n"
      ],
      "text/plain": [
       "<pandas.io.formats.style.Styler at 0x14fe76510>"
      ]
     },
     "execution_count": 84,
     "metadata": {},
     "output_type": "execute_result"
    }
   ],
   "source": [
    "# (c) Based on the regression estimates, in how many periods do we estimate a negative risk premium?\n",
    "full_sample = (strats < 0).mean().to_frame('% Negative Risk Premium Periods')\n",
    "sub_sample = (strats['2000':'2011'] < 0).mean().to_frame('% Negative Risk Premium Periods')\n",
    "\n",
    "pd.concat({'Full Sample': full_sample, '2000-2011': sub_sample}, axis=0).style.format(\"{:.2%}\")"
   ]
  },
  {
   "cell_type": "markdown",
   "id": "bf072314",
   "metadata": {},
   "source": [
    "<span style=\"color:red;\">\n",
    "\n",
    "(d) I do believe the dynamic strategy takes on extra risk relative to the risk-free rate. This belief is clearly evidenced by the cumulative return plot above. While the risk-free rate offers steady predictable period-over-period returns, the strategy exhibits quite a bit more volatility. It also has some substantial periods of drawdown that investors would likely want to be compensated for.\n",
    "\n",
    "</span>"
   ]
  },
  {
   "cell_type": "markdown",
   "id": "68000cd3",
   "metadata": {},
   "source": [
    "# 4 Out-of-Sample Forecasting"
   ]
  },
  {
   "cell_type": "markdown",
   "id": "63ddef25",
   "metadata": {},
   "source": [
    "This section utilizes data in the file, `gmo_data.xlsx`."
   ]
  },
  {
   "cell_type": "markdown",
   "id": "ee16d1a3",
   "metadata": {},
   "source": [
    "Reconsider the problem above, of estimating (1) for x. The reported R2 was the in-sample R2–it examined how well the forecasts fit in the sample from which the parameters were estimated."
   ]
  },
  {
   "cell_type": "markdown",
   "id": "81d25dd1",
   "metadata": {},
   "source": [
    "In particular, focus on the case of using both dividend-price and earnings-price as signals."
   ]
  },
  {
   "cell_type": "markdown",
   "id": "26e31659",
   "metadata": {},
   "source": [
    "Let’s consider the out-of-sample r-squared. To do so, we need to do the following:"
   ]
  },
  {
   "cell_type": "markdown",
   "id": "11a02d6b",
   "metadata": {},
   "source": [
    "- Start at t = 60.\n",
    "- Estimate (1) only using data through time t.\n",
    "- Use the estimated parameters of (1), along with $x_{t+1}$ to calculate the out-of-sample forecast for the following period, t+ 1."
   ]
  },
  {
   "cell_type": "markdown",
   "id": "58e1a00c",
   "metadata": {},
   "source": [
    "$$r̂_{t+1}^{SPY} = α̂_t^{SPY,x} + (β^{SPY,x})' \\mathbf{x_t}$$"
   ]
  },
  {
   "cell_type": "markdown",
   "id": "5b8b1668",
   "metadata": {},
   "source": [
    "- Calculate the t+ 1 forecast error,"
   ]
  },
  {
   "cell_type": "markdown",
   "id": "8d17143a",
   "metadata": {},
   "source": [
    "$$e_{t+1}^{forecast} = r_{t+1}^{SPY} − r̂_{t+1}^{SPY}$$"
   ]
  },
  {
   "cell_type": "markdown",
   "id": "c4dd4d59",
   "metadata": {},
   "source": [
    "- Move to t = 61, and loop through the rest of the sample."
   ]
  },
  {
   "cell_type": "markdown",
   "id": "932e358b",
   "metadata": {},
   "source": [
    "You now have the time-series of out-of-sample prediction errors, ex."
   ]
  },
  {
   "cell_type": "markdown",
   "id": "9aeb5b0d",
   "metadata": {},
   "source": [
    "Calculate the time-series of out-of-sample prediction errors $e^{null}$, which are based on the null forecast:"
   ]
  },
  {
   "cell_type": "markdown",
   "id": "71290d3d",
   "metadata": {},
   "source": [
    "$$r̄_{t+1}^{SPY} = \\frac{1}{t}∑_{i=1}^t r_i^{SPY}$$"
   ]
  },
  {
   "cell_type": "markdown",
   "id": "251d5e3a",
   "metadata": {},
   "source": [
    "$$e_{t+1}^{null} =r_{t+1}^{SPY} − r̄_{t+1}^{SPY}$$"
   ]
  },
  {
   "cell_type": "markdown",
   "id": "c8c8535d",
   "metadata": {},
   "source": [
    "## 1. Report the out-of-sample R2:"
   ]
  },
  {
   "cell_type": "markdown",
   "id": "42d2a254",
   "metadata": {},
   "source": [
    "$$\\mathcal{R}_{OOS}^2 ≡ 1−\\frac{∑_{i=61}^T(e_i^{forecast})^2}{(∑_{i=61}^T(e_i^{null})^2)}$$"
   ]
  },
  {
   "cell_type": "markdown",
   "id": "501ab827",
   "metadata": {},
   "source": [
    "Note that unlike an in-sample r-squared, the out-of-sample r-squared can be anywhere between (−∞, 1]."
   ]
  },
  {
   "cell_type": "markdown",
   "id": "1a4d81d1",
   "metadata": {},
   "source": [
    "Did this forecasting strategy produce a positive OOS r-squared?"
   ]
  },
  {
   "cell_type": "code",
   "execution_count": 85,
   "id": "0985234a",
   "metadata": {},
   "outputs": [
    {
     "name": "stdout",
     "output_type": "stream",
     "text": [
      "OOS R-Squared: -8.69%\n"
     ]
    }
   ],
   "source": [
    "y = excess_rets['SPY']\n",
    "X = signals.shift(1)[['SPX DVD YLD', 'SPX P/E']]\n",
    "X = sm.add_constant(X)\n",
    "start = 60\n",
    "forecast_errors, null_errors = [], []\n",
    "\n",
    "for i in range(start, len(y)-1):\n",
    "    y_i = y.iloc[:i]\n",
    "    X_i = X.iloc[:i]\n",
    "    model = sm.OLS(y_i, X_i, missing='drop').fit()\n",
    "    pred_i = model.predict(X.iloc[i+1])[0]\n",
    "    forecast_errors.append(y.iloc[i+1] - pred_i)\n",
    "    null_errors.append(y.iloc[i+1] - y.iloc[:i].mean())\n",
    "\n",
    "print(f'OOS R-Squared: {1 - np.sum(np.square(forecast_errors)) / np.sum(np.square(null_errors)):.2%}')"
   ]
  },
  {
   "cell_type": "markdown",
   "id": "f7f08987",
   "metadata": {},
   "source": [
    "## 2. Re-do problem 3.2 using this OOS forecast."
   ]
  },
  {
   "cell_type": "markdown",
   "id": "97816bc4",
   "metadata": {},
   "source": [
    "How much better/worse is the OOS strategy compared to the in-sample version of 3.2?"
   ]
  },
  {
   "cell_type": "code",
   "execution_count": 88,
   "id": "56bfbd6f",
   "metadata": {},
   "outputs": [
    {
     "data": {
      "text/html": [
       "<style type=\"text/css\">\n",
       "</style>\n",
       "<table id=\"T_e957e\">\n",
       "  <thead>\n",
       "    <tr>\n",
       "      <th class=\"blank level0\" >&nbsp;</th>\n",
       "      <th id=\"T_e957e_level0_col0\" class=\"col_heading level0 col0\" >div_price</th>\n",
       "      <th id=\"T_e957e_level0_col1\" class=\"col_heading level0 col1\" >ear_price</th>\n",
       "      <th id=\"T_e957e_level0_col2\" class=\"col_heading level0 col2\" >multi_reg</th>\n",
       "      <th id=\"T_e957e_level0_col3\" class=\"col_heading level0 col3\" >oos_rets</th>\n",
       "    </tr>\n",
       "  </thead>\n",
       "  <tbody>\n",
       "    <tr>\n",
       "      <th id=\"T_e957e_level0_row0\" class=\"row_heading level0 row0\" >Annualized Mean</th>\n",
       "      <td id=\"T_e957e_row0_col0\" class=\"data row0 col0\" >9.30%</td>\n",
       "      <td id=\"T_e957e_row0_col1\" class=\"data row0 col1\" >7.43%</td>\n",
       "      <td id=\"T_e957e_row0_col2\" class=\"data row0 col2\" >10.56%</td>\n",
       "      <td id=\"T_e957e_row0_col3\" class=\"data row0 col3\" >1.94%</td>\n",
       "    </tr>\n",
       "    <tr>\n",
       "      <th id=\"T_e957e_level0_row1\" class=\"row_heading level0 row1\" >Annualized Vol</th>\n",
       "      <td id=\"T_e957e_row1_col0\" class=\"data row1 col0\" >18.09%</td>\n",
       "      <td id=\"T_e957e_row1_col1\" class=\"data row1 col1\" >13.16%</td>\n",
       "      <td id=\"T_e957e_row1_col2\" class=\"data row1 col2\" >18.14%</td>\n",
       "      <td id=\"T_e957e_row1_col3\" class=\"data row1 col3\" >23.61%</td>\n",
       "    </tr>\n",
       "    <tr>\n",
       "      <th id=\"T_e957e_level0_row2\" class=\"row_heading level0 row2\" >Annualized Sharpe</th>\n",
       "      <td id=\"T_e957e_row2_col0\" class=\"data row2 col0\" >51.45%</td>\n",
       "      <td id=\"T_e957e_row2_col1\" class=\"data row2 col1\" >56.47%</td>\n",
       "      <td id=\"T_e957e_row2_col2\" class=\"data row2 col2\" >58.24%</td>\n",
       "      <td id=\"T_e957e_row2_col3\" class=\"data row2 col3\" >8.21%</td>\n",
       "    </tr>\n",
       "    <tr>\n",
       "      <th id=\"T_e957e_level0_row3\" class=\"row_heading level0 row3\" >Min</th>\n",
       "      <td id=\"T_e957e_row3_col0\" class=\"data row3 col0\" >-29.92%</td>\n",
       "      <td id=\"T_e957e_row3_col1\" class=\"data row3 col1\" >-17.51%</td>\n",
       "      <td id=\"T_e957e_row3_col2\" class=\"data row3 col2\" >-27.75%</td>\n",
       "      <td id=\"T_e957e_row3_col3\" class=\"data row3 col3\" >-58.36%</td>\n",
       "    </tr>\n",
       "    <tr>\n",
       "      <th id=\"T_e957e_level0_row4\" class=\"row_heading level0 row4\" >Annualized Historical VaR (5.00%)</th>\n",
       "      <td id=\"T_e957e_row4_col0\" class=\"data row4 col0\" >-18.62%</td>\n",
       "      <td id=\"T_e957e_row4_col1\" class=\"data row4 col1\" >-21.07%</td>\n",
       "      <td id=\"T_e957e_row4_col2\" class=\"data row4 col2\" >-19.26%</td>\n",
       "      <td id=\"T_e957e_row4_col3\" class=\"data row4 col3\" >-24.97%</td>\n",
       "    </tr>\n",
       "    <tr>\n",
       "      <th id=\"T_e957e_level0_row5\" class=\"row_heading level0 row5\" >Max Drawdown</th>\n",
       "      <td id=\"T_e957e_row5_col0\" class=\"data row5 col0\" >-72.44%</td>\n",
       "      <td id=\"T_e957e_row5_col1\" class=\"data row5 col1\" >-55.90%</td>\n",
       "      <td id=\"T_e957e_row5_col2\" class=\"data row5 col2\" >-67.85%</td>\n",
       "      <td id=\"T_e957e_row5_col3\" class=\"data row5 col3\" >-87.00%</td>\n",
       "    </tr>\n",
       "  </tbody>\n",
       "</table>\n"
      ],
      "text/plain": [
       "<pandas.io.formats.style.Styler at 0x159877320>"
      ]
     },
     "execution_count": 88,
     "metadata": {},
     "output_type": "execute_result"
    }
   ],
   "source": [
    "oos_rets = (excess_rets.iloc[start+1:, 0] - forecast_errors).to_frame('oos_rets') * 100\n",
    "oos_rets = oos_rets.multiply(excess_rets['SPY'], axis=0).dropna()\n",
    "new_strats = pd.concat([strats, oos_rets], axis=1).dropna()\n",
    "\n",
    "# Return & Risk Statistics\n",
    "pmh.calc_summary_statistics(new_strats, annual_factor=12, provided_excess_returns=True,\n",
    "                            keep_columns=['Annualized Mean', 'Annualized Vol', 'Annualized Sharpe',\n",
    "                                          'Min', 'Annualized Historical VaR', 'Drawdown']).T.style.format(\"{:.2%}\")"
   ]
  },
  {
   "cell_type": "markdown",
   "id": "ee8be8dd",
   "metadata": {},
   "source": [
    "<span style=\"color:red;\">\n",
    "\n",
    "The performance of the OOS strategy is substantially worse than the in-sample version calculated in 3.2 (as evidenced by the final column in the above dataframe). The return profile is considerably worse (Sharpe less than 1/7 the in-sample performance) and the tail risk is substantially larger.\n",
    "\n",
    "</span>"
   ]
  },
  {
   "cell_type": "markdown",
   "id": "29047bc1",
   "metadata": {},
   "source": [
    "## 3. Re-do problem 3.3 using this OOS forecast."
   ]
  },
  {
   "cell_type": "markdown",
   "id": "7dbf9022",
   "metadata": {},
   "source": [
    "Is the point-in-time version of the strategy riskier?"
   ]
  },
  {
   "cell_type": "code",
   "execution_count": 89,
   "id": "1604707b",
   "metadata": {},
   "outputs": [
    {
     "data": {
      "text/html": [
       "<style type=\"text/css\">\n",
       "</style>\n",
       "<table id=\"T_ef8a6\">\n",
       "  <thead>\n",
       "    <tr>\n",
       "      <th class=\"blank level0\" >&nbsp;</th>\n",
       "      <th id=\"T_ef8a6_level0_col0\" class=\"col_heading level0 col0\" >Annualized Historical VaR (5.00%)</th>\n",
       "    </tr>\n",
       "  </thead>\n",
       "  <tbody>\n",
       "    <tr>\n",
       "      <th id=\"T_ef8a6_level0_row0\" class=\"row_heading level0 row0\" >div_price</th>\n",
       "      <td id=\"T_ef8a6_row0_col0\" class=\"data row0 col0\" >-18.62%</td>\n",
       "    </tr>\n",
       "    <tr>\n",
       "      <th id=\"T_ef8a6_level0_row1\" class=\"row_heading level0 row1\" >ear_price</th>\n",
       "      <td id=\"T_ef8a6_row1_col0\" class=\"data row1 col0\" >-21.07%</td>\n",
       "    </tr>\n",
       "    <tr>\n",
       "      <th id=\"T_ef8a6_level0_row2\" class=\"row_heading level0 row2\" >multi_reg</th>\n",
       "      <td id=\"T_ef8a6_row2_col0\" class=\"data row2 col0\" >-19.26%</td>\n",
       "    </tr>\n",
       "    <tr>\n",
       "      <th id=\"T_ef8a6_level0_row3\" class=\"row_heading level0 row3\" >oos_rets</th>\n",
       "      <td id=\"T_ef8a6_row3_col0\" class=\"data row3 col0\" >-24.97%</td>\n",
       "    </tr>\n",
       "    <tr>\n",
       "      <th id=\"T_ef8a6_level0_row4\" class=\"row_heading level0 row4\" >SPY</th>\n",
       "      <td id=\"T_ef8a6_row4_col0\" class=\"data row4 col0\" >-26.57%</td>\n",
       "    </tr>\n",
       "    <tr>\n",
       "      <th id=\"T_ef8a6_level0_row5\" class=\"row_heading level0 row5\" >GMWAX</th>\n",
       "      <td id=\"T_ef8a6_row5_col0\" class=\"data row5 col0\" >-14.25%</td>\n",
       "    </tr>\n",
       "    <tr>\n",
       "      <th id=\"T_ef8a6_level0_row6\" class=\"row_heading level0 row6\" >GMGEX</th>\n",
       "      <td id=\"T_ef8a6_row6_col0\" class=\"data row6 col0\" >-26.43%</td>\n",
       "    </tr>\n",
       "  </tbody>\n",
       "</table>\n"
      ],
      "text/plain": [
       "<pandas.io.formats.style.Styler at 0x159811be0>"
      ]
     },
     "execution_count": 89,
     "metadata": {},
     "output_type": "execute_result"
    }
   ],
   "source": [
    "# (a) For both strategies, the market, and GMO, calculate the monthly VaR for π = .05. \n",
    "# Just use the quantile of the historic data for this VaR calculation.\n",
    "compare_df = pd.concat([new_strats, excess_rets], axis=1).dropna()\n",
    "pmh.calc_summary_statistics(compare_df, annual_factor=12, provided_excess_returns=True, \n",
    "                            keep_columns=['Annualized Historical VaR']).style.format(\"{:.2%}\")"
   ]
  },
  {
   "cell_type": "code",
   "execution_count": 90,
   "id": "1ef51650",
   "metadata": {},
   "outputs": [
    {
     "data": {
      "image/png": "[encoded data removed]",
      "text/plain": [
       "<Figure size 700x500 with 1 Axes>"
      ]
     },
     "metadata": {},
     "output_type": "display_data"
    }
   ],
   "source": [
    "# (b) The GMO case mentions that stocks under-performed short-term bonds from 2000-2011. \n",
    "# Does the dynamic portfolio above under-perform the risk-free rate over this time?\n",
    "pmh.calc_cummulative_returns(pd.concat([new_strats['2000':'2011'], \n",
    "                                        rf_rets['2000':'2011'], \n",
    "                                        excess_rets.loc['2000':'2011', ['SPY', 'GMWAX']]], axis=1))"
   ]
  },
  {
   "cell_type": "code",
   "execution_count": 91,
   "id": "d87089b9",
   "metadata": {},
   "outputs": [
    {
     "data": {
      "text/html": [
       "<style type=\"text/css\">\n",
       "</style>\n",
       "<table id=\"T_c5aa8\">\n",
       "  <thead>\n",
       "    <tr>\n",
       "      <th class=\"blank\" >&nbsp;</th>\n",
       "      <th class=\"blank level0\" >&nbsp;</th>\n",
       "      <th id=\"T_c5aa8_level0_col0\" class=\"col_heading level0 col0\" >% Negative Risk Premium Periods</th>\n",
       "    </tr>\n",
       "  </thead>\n",
       "  <tbody>\n",
       "    <tr>\n",
       "      <th id=\"T_c5aa8_level0_row0\" class=\"row_heading level0 row0\" rowspan=\"4\">Full Sample</th>\n",
       "      <th id=\"T_c5aa8_level1_row0\" class=\"row_heading level1 row0\" >div_price</th>\n",
       "      <td id=\"T_c5aa8_row0_col0\" class=\"data row0 col0\" >34.31%</td>\n",
       "    </tr>\n",
       "    <tr>\n",
       "      <th id=\"T_c5aa8_level1_row1\" class=\"row_heading level1 row1\" >ear_price</th>\n",
       "      <td id=\"T_c5aa8_row1_col0\" class=\"data row1 col0\" >37.23%</td>\n",
       "    </tr>\n",
       "    <tr>\n",
       "      <th id=\"T_c5aa8_level1_row2\" class=\"row_heading level1 row2\" >multi_reg</th>\n",
       "      <td id=\"T_c5aa8_row2_col0\" class=\"data row2 col0\" >35.04%</td>\n",
       "    </tr>\n",
       "    <tr>\n",
       "      <th id=\"T_c5aa8_level1_row3\" class=\"row_heading level1 row3\" >oos_rets</th>\n",
       "      <td id=\"T_c5aa8_row3_col0\" class=\"data row3 col0\" >36.86%</td>\n",
       "    </tr>\n",
       "    <tr>\n",
       "      <th id=\"T_c5aa8_level0_row4\" class=\"row_heading level0 row4\" rowspan=\"4\">2000-2011</th>\n",
       "      <th id=\"T_c5aa8_level1_row4\" class=\"row_heading level1 row4\" >div_price</th>\n",
       "      <td id=\"T_c5aa8_row4_col0\" class=\"data row4 col0\" >42.50%</td>\n",
       "    </tr>\n",
       "    <tr>\n",
       "      <th id=\"T_c5aa8_level1_row5\" class=\"row_heading level1 row5\" >ear_price</th>\n",
       "      <td id=\"T_c5aa8_row5_col0\" class=\"data row5 col0\" >41.67%</td>\n",
       "    </tr>\n",
       "    <tr>\n",
       "      <th id=\"T_c5aa8_level1_row6\" class=\"row_heading level1 row6\" >multi_reg</th>\n",
       "      <td id=\"T_c5aa8_row6_col0\" class=\"data row6 col0\" >41.67%</td>\n",
       "    </tr>\n",
       "    <tr>\n",
       "      <th id=\"T_c5aa8_level1_row7\" class=\"row_heading level1 row7\" >oos_rets</th>\n",
       "      <td id=\"T_c5aa8_row7_col0\" class=\"data row7 col0\" >43.33%</td>\n",
       "    </tr>\n",
       "  </tbody>\n",
       "</table>\n"
      ],
      "text/plain": [
       "<pandas.io.formats.style.Styler at 0x15321fc80>"
      ]
     },
     "execution_count": 91,
     "metadata": {},
     "output_type": "execute_result"
    }
   ],
   "source": [
    "# (c) Based on the regression estimates, in how many periods do we estimate a negative risk premium?\n",
    "full_sample = (new_strats < 0).mean().to_frame('% Negative Risk Premium Periods')\n",
    "sub_sample = (new_strats['2000':'2011'] < 0).mean().to_frame('% Negative Risk Premium Periods')\n",
    "\n",
    "pd.concat({'Full Sample': full_sample, '2000-2011': sub_sample}, axis=0).style.format(\"{:.2%}\")"
   ]
  },
  {
   "cell_type": "markdown",
   "id": "d46fb498",
   "metadata": {},
   "source": [
    "# 5 Extensions"
   ]
  },
  {
   "cell_type": "markdown",
   "id": "7fd4000d",
   "metadata": {},
   "source": [
    "This section is not graded, and you do not need to submit your answers. We may discuss some of these extensions."
   ]
  },
  {
   "cell_type": "markdown",
   "id": "70221875",
   "metadata": {},
   "source": [
    "## 1. Classification and Regression Tree (CART)"
   ]
  },
  {
   "cell_type": "markdown",
   "id": "4e4a522d",
   "metadata": {},
   "source": [
    "Re-do Section 3, but use CART in forecasting instead of a lagged regression."
   ]
  },
  {
   "cell_type": "markdown",
   "id": "6590a62c",
   "metadata": {},
   "source": [
    "- Consider using RandomForestRegressor from sklearn.ensemble.\n",
    "- If you want to plot the tree, try using tree from sklearn."
   ]
  },
  {
   "cell_type": "markdown",
   "id": "8d7c7e5c",
   "metadata": {},
   "source": [
    "## 2. Expand on the CART analysis by calculating the OOS stats, as in Section 4."
   ]
  },
  {
   "cell_type": "markdown",
   "id": "4782e3f3",
   "metadata": {},
   "source": [
    "## 3. Re-do Section 3, but use a Neural Network in forecasting instead of a lagged regression."
   ]
  },
  {
   "cell_type": "markdown",
   "id": "27092f85",
   "metadata": {},
   "source": [
    "- Consider using MLPRegressor from sklearn.neural network."
   ]
  },
  {
   "cell_type": "markdown",
   "id": "b871a513",
   "metadata": {},
   "source": [
    "## 4. Expand on the CART and Neural Network analysis by calculating the OOS stats, as in Section 4."
   ]
  }
 ],
 "metadata": {
  "kernelspec": {
   "display_name": "base",
   "language": "python",
   "name": "python3"
  },
  "language_info": {
   "codemirror_mode": {
    "name": "ipython",
    "version": 3
   },
   "file_extension": ".py",
   "mimetype": "text/x-python",
   "name": "python",
   "nbconvert_exporter": "python",
   "pygments_lexer": "ipython3",
   "version": "3.12.4"
  }
 },
 "nbformat": 4,
 "nbformat_minor": 5
}
